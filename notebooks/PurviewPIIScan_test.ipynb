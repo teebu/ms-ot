{
 "cells": [
  {
   "cell_type": "code",
   "execution_count": 6,
   "id": "cff45928",
   "metadata": {},
   "outputs": [
    {
     "data": {
      "application/vnd.livy.statement-meta+json": {
       "execution_finish_time": "2025-08-14T20:20:47.3201239Z",
       "execution_start_time": "2025-08-14T20:20:44.3314875Z",
       "livy_statement_state": "available",
       "normalized_state": "finished",
       "parent_msg_id": "8550a2a9-da8a-4943-8842-713d7c30aff8",
       "queued_time": "2025-08-14T20:20:43.8870496Z",
       "session_id": "6",
       "session_start_time": null,
       "spark_jobs": {
        "jobs": [],
        "limit": 20,
        "numbers": {
         "FAILED": 0,
         "RUNNING": 0,
         "SUCCEEDED": 0,
         "UNKNOWN": 0
        },
        "rule": "ALL_DESC"
       },
       "spark_pool": "MSGSmall",
       "state": "finished",
       "statement_id": 7,
       "statement_ids": [
        7
       ]
      },
      "text/plain": [
       "StatementMeta(MSGSmall, 6, 7, Finished, Available, Finished)"
      ]
     },
     "metadata": {},
     "output_type": "display_data"
    }
   ],
   "source": [
    "from pyspark.sql import SparkSession\n",
    "from pyspark.sql.functions import col, split, array, size, expr, lit, trim, explode, array_intersect, length, row_number, current_timestamp, expr\n",
    "from pyspark.sql.window import Window\n",
    "from sentinel_lake.providers import MicrosoftSentinelProvider\n",
    "spark = SparkSession.builder.getOrCreate()\n",
    "data_provider = MicrosoftSentinelProvider(spark)\n"
   ]
  },
  {
   "cell_type": "code",
   "execution_count": 7,
   "id": "4c01557b",
   "metadata": {},
   "outputs": [
    {
     "data": {
      "application/vnd.livy.statement-meta+json": {
       "execution_finish_time": "2025-08-14T20:21:37.158408Z",
       "execution_start_time": "2025-08-14T20:20:47.6462928Z",
       "livy_statement_state": "available",
       "normalized_state": "finished",
       "parent_msg_id": "b72c8450-dccd-43e6-a194-d91e05ec6f30",
       "queued_time": "2025-08-14T20:20:47.6450878Z",
       "session_id": "6",
       "session_start_time": null,
       "spark_jobs": {
        "jobs": [
         {
          "completionTime": "2025-08-14T20:21:35.397GMT",
          "dataRead": 14566,
          "dataWritten": 0,
          "description": "Job group for statement 8:\n# Reading from PurviewDataSensitityLogs from data lake. \ndf = data_provider.read_table(\"PurviewDataSensitivityLogs\",\"BOND-2-Log-Analytics\")\ndf.show(5, False)",
          "displayName": "showString at NativeMethodAccessorImpl.java:0",
          "jobGroup": "8",
          "jobId": 6,
          "jobTags": [],
          "killedTasksSummary": {},
          "name": "showString at NativeMethodAccessorImpl.java:0",
          "numActiveStages": 0,
          "numActiveTasks": 0,
          "numCompletedIndices": 1,
          "numCompletedStages": 1,
          "numCompletedTasks": 1,
          "numFailedStages": 0,
          "numFailedTasks": 0,
          "numKilledTasks": 0,
          "numSkippedStages": 0,
          "numSkippedTasks": 0,
          "numTasks": 1,
          "rowCount": 368,
          "stageIds": [
           11
          ],
          "status": "SUCCEEDED",
          "submissionTime": "2025-08-14T20:21:33.592GMT",
          "usageDescription": ""
         },
         {
          "completionTime": "2025-08-14T20:21:32.761GMT",
          "dataRead": 3030,
          "dataWritten": 0,
          "description": "Job group for statement 8:\n# Reading from PurviewDataSensitityLogs from data lake. \ndf = data_provider.read_table(\"PurviewDataSensitivityLogs\",\"BOND-2-Log-Analytics\")\ndf.show(5, False)",
          "displayName": "$anonfun$recordDeltaOperationInternal$1 at SynapseLoggingShim.scala:111",
          "jobGroup": "8",
          "jobId": 5,
          "jobTags": [],
          "killedTasksSummary": {},
          "name": "$anonfun$recordDeltaOperationInternal$1 at SynapseLoggingShim.scala:111",
          "numActiveStages": 0,
          "numActiveTasks": 0,
          "numCompletedIndices": 50,
          "numCompletedStages": 1,
          "numCompletedTasks": 50,
          "numFailedStages": 0,
          "numFailedTasks": 0,
          "numKilledTasks": 0,
          "numSkippedStages": 1,
          "numSkippedTasks": 3,
          "numTasks": 53,
          "rowCount": 4,
          "stageIds": [
           9,
           10
          ],
          "status": "SUCCEEDED",
          "submissionTime": "2025-08-14T20:21:32.127GMT",
          "usageDescription": ""
         },
         {
          "completionTime": "2025-08-14T20:21:31.469GMT",
          "dataRead": 4796,
          "dataWritten": 0,
          "description": "Delta: Delta: Job group for statement 8:\n# Reading from PurviewDataSensitityLogs from data lake. \ndf = data_provider.read_table(\"PurviewDataSensitivityLogs\",\"BOND-2-Log-Analytics\")\ndf.show(5, False): Filtering files for query: Compute snapshot for version: 2",
          "displayName": "$anonfun$recordDeltaOperationInternal$1 at SynapseLoggingShim.scala:111",
          "jobGroup": "8",
          "jobId": 4,
          "jobTags": [],
          "killedTasksSummary": {},
          "name": "$anonfun$recordDeltaOperationInternal$1 at SynapseLoggingShim.scala:111",
          "numActiveStages": 0,
          "numActiveTasks": 0,
          "numCompletedIndices": 1,
          "numCompletedStages": 1,
          "numCompletedTasks": 1,
          "numFailedStages": 0,
          "numFailedTasks": 0,
          "numKilledTasks": 0,
          "numSkippedStages": 2,
          "numSkippedTasks": 53,
          "numTasks": 54,
          "rowCount": 50,
          "stageIds": [
           6,
           7,
           8
          ],
          "status": "SUCCEEDED",
          "submissionTime": "2025-08-14T20:21:31.308GMT",
          "usageDescription": ""
         },
         {
          "completionTime": "2025-08-14T20:21:31.223GMT",
          "dataRead": 3030,
          "dataWritten": 4796,
          "description": "Delta: Delta: Job group for statement 8:\n# Reading from PurviewDataSensitityLogs from data lake. \ndf = data_provider.read_table(\"PurviewDataSensitivityLogs\",\"BOND-2-Log-Analytics\")\ndf.show(5, False): Filtering files for query: Compute snapshot for version: 2",
          "displayName": "$anonfun$recordDeltaOperationInternal$1 at SynapseLoggingShim.scala:111",
          "jobGroup": "8",
          "jobId": 3,
          "jobTags": [],
          "killedTasksSummary": {},
          "name": "$anonfun$recordDeltaOperationInternal$1 at SynapseLoggingShim.scala:111",
          "numActiveStages": 0,
          "numActiveTasks": 0,
          "numCompletedIndices": 50,
          "numCompletedStages": 1,
          "numCompletedTasks": 50,
          "numFailedStages": 0,
          "numFailedTasks": 0,
          "numKilledTasks": 0,
          "numSkippedStages": 1,
          "numSkippedTasks": 3,
          "numTasks": 53,
          "rowCount": 54,
          "stageIds": [
           5,
           4
          ],
          "status": "SUCCEEDED",
          "submissionTime": "2025-08-14T20:21:29.308GMT",
          "usageDescription": ""
         },
         {
          "completionTime": "2025-08-14T20:21:27.960GMT",
          "dataRead": 3011,
          "dataWritten": 0,
          "description": "Delta: Job group for statement 8:\n# Reading from PurviewDataSensitityLogs from data lake. \ndf = data_provider.read_table(\"PurviewDataSensitivityLogs\",\"BOND-2-Log-Analytics\")\ndf.show(5, False): Filtering files for query",
          "displayName": "$anonfun$recordDeltaOperationInternal$1 at SynapseLoggingShim.scala:111",
          "jobGroup": "8",
          "jobId": 2,
          "jobTags": [],
          "killedTasksSummary": {},
          "name": "$anonfun$recordDeltaOperationInternal$1 at SynapseLoggingShim.scala:111",
          "numActiveStages": 0,
          "numActiveTasks": 0,
          "numCompletedIndices": 50,
          "numCompletedStages": 1,
          "numCompletedTasks": 50,
          "numFailedStages": 0,
          "numFailedTasks": 0,
          "numKilledTasks": 0,
          "numSkippedStages": 1,
          "numSkippedTasks": 3,
          "numTasks": 53,
          "rowCount": 7,
          "stageIds": [
           2,
           3
          ],
          "status": "SUCCEEDED",
          "submissionTime": "2025-08-14T20:21:23.138GMT",
          "usageDescription": ""
         },
         {
          "completionTime": "2025-08-14T20:21:19.011GMT",
          "dataRead": 5361,
          "dataWritten": 3011,
          "description": "Delta: Job group for statement 8:\n# Reading from PurviewDataSensitityLogs from data lake. \ndf = data_provider.read_table(\"PurviewDataSensitivityLogs\",\"BOND-2-Log-Analytics\")\ndf.show(5, False): Filtering files for query",
          "displayName": "$anonfun$recordDeltaOperationInternal$1 at SynapseLoggingShim.scala:111",
          "jobGroup": "8",
          "jobId": 1,
          "jobTags": [],
          "killedTasksSummary": {},
          "name": "$anonfun$recordDeltaOperationInternal$1 at SynapseLoggingShim.scala:111",
          "numActiveStages": 0,
          "numActiveTasks": 0,
          "numCompletedIndices": 3,
          "numCompletedStages": 1,
          "numCompletedTasks": 3,
          "numFailedStages": 0,
          "numFailedTasks": 0,
          "numKilledTasks": 0,
          "numSkippedStages": 0,
          "numSkippedTasks": 0,
          "numTasks": 3,
          "rowCount": 14,
          "stageIds": [
           1
          ],
          "status": "SUCCEEDED",
          "submissionTime": "2025-08-14T20:21:15.658GMT",
          "usageDescription": ""
         },
         {
          "completionTime": "2025-08-14T20:21:12.510GMT",
          "dataRead": 5361,
          "dataWritten": 0,
          "description": "Job group for statement 8:\n# Reading from PurviewDataSensitityLogs from data lake. \ndf = data_provider.read_table(\"PurviewDataSensitivityLogs\",\"BOND-2-Log-Analytics\")\ndf.show(5, False)",
          "displayName": "toString at String.java:2951",
          "jobGroup": "8",
          "jobId": 0,
          "jobTags": [],
          "killedTasksSummary": {},
          "name": "toString at String.java:2951",
          "numActiveStages": 0,
          "numActiveTasks": 0,
          "numCompletedIndices": 3,
          "numCompletedStages": 1,
          "numCompletedTasks": 3,
          "numFailedStages": 0,
          "numFailedTasks": 0,
          "numKilledTasks": 0,
          "numSkippedStages": 0,
          "numSkippedTasks": 0,
          "numTasks": 3,
          "rowCount": 7,
          "stageIds": [
           0
          ],
          "status": "SUCCEEDED",
          "submissionTime": "2025-08-14T20:21:01.425GMT",
          "usageDescription": ""
         }
        ],
        "limit": 20,
        "numbers": {
         "FAILED": 0,
         "RUNNING": 0,
         "SUCCEEDED": 7,
         "UNKNOWN": 0
        },
        "rule": "ALL_DESC"
       },
       "spark_pool": "MSGSmall",
       "state": "finished",
       "statement_id": 8,
       "statement_ids": [
        8
       ]
      },
      "text/plain": [
       "StatementMeta(MSGSmall, 6, 8, Finished, Available, Finished)"
      ]
     },
     "metadata": {},
     "output_type": "display_data"
    },
    {
     "name": "stdout",
     "output_type": "stream",
     "text": [
      "{\"level\": \"INFO\", \"run_id\": \"8f5c14f2-c77b-456f-aee5-af7ffb314b96\", \"message\": \"Loading table: PurviewDataSensitivityLogs\"}\n",
      "{\"level\": \"INFO\", \"run_id\": \"8f5c14f2-c77b-456f-aee5-af7ffb314b96\", \"message\": \"Successfully loaded table PurviewDataSensitivityLogs\"}\n",
      "+------------------------------------+--------------------------+------------------------------------+------------------+-------------+--------------------+----------------+---------------------------------------------------------------------------------------------------------------+------------------------------------+------------+--------------------+------------+---------+----------------------------------------------------------------------------+---------+-------------------+-------------------+--------------------------+-------------+--------+--------------+---------------------+-----------------------------+-----------------------------------------------------------------------------------------------------------------------------+-----------------------+----------------+-----------------------+------------+-------------------+-----------+-----------+\n",
      "|TenantId                            |TimeGenerated [UTC]       |PurviewTenantId                     |PurviewAccountName|PurviewRegion|SourceName          |SourceType      |SourcePath                                                                                                     |SourceSubscriptionId                |SourceRegion|SourceCollectionName|SourceScanId|AssetName|AssetPath                                                                   |AssetType|AssetCreationTime  |AssetModifiedTime  |AssetLastScanTime         |FileExtension|FileSize|ActivityType  |ClassificationTrigger|Classification               |ClassificationDetails                                                                                                        |SensitivityLabelTrigger|SensitivityLabel|SensitivityLabelDetails|SourceSystem|_ReceivedTime      |_IsBillable|_BilledSize|\n",
      "+------------------------------------+--------------------------+------------------------------------+------------------+-------------+--------------------+----------------+---------------------------------------------------------------------------------------------------------------+------------------------------------+------------+--------------------+------------+---------+----------------------------------------------------------------------------+---------+-------------------+-------------------+--------------------------+-------------+--------+--------------+---------------------+-----------------------------+-----------------------------------------------------------------------------------------------------------------------------+-----------------------+----------------+-----------------------+------------+-------------------+-----------+-----------+\n",
      "|c9a8dc69-3321-4a54-a511-1c243c26e7d3|2025-07-30 20:58:15.528183|714a1b55-6ae7-46e7-aa08-8978b2c8746c|Purtoso           |eastus2      |AzureSqlDatabase-Crl|AzureSqlDatabase|/subscriptions/8a081f00-1372-4400-9886-a704be213b86/resourceGroups/BOND/providers/Microsoft.Sql/servers/bondsql|8a081f00-1372-4400-9886-a704be213b86|eastus      |purtoso             |            |GENDER   |mssql://bondsql.database.windows.net/CustomerDB/dbo/CustomerFlights44#GENDER|Column   |2025-07-07 20:57:38|2025-07-07 20:57:38|2025-07-30 20:55:24.456374|             |0       |Classification|System               |[\"MICROSOFT.PERSONAL.GENDER\"]|[{\"Id\":\"69b7b5fe-7451-c80a-4857-59d62eba3c3d\",\"Name\":\"MICROSOFT.PERSONAL.GENDER\",\"Confidence\":100,\"Count\":1,\"UniqueCount\":1}]|                       |[]              |[]                     |null        |2025-07-30 21:00:00|null       |null       |\n",
      "|c9a8dc69-3321-4a54-a511-1c243c26e7d3|2025-07-30 20:58:15.528258|714a1b55-6ae7-46e7-aa08-8978b2c8746c|Purtoso           |eastus2      |AzureSqlDatabase-Crl|AzureSqlDatabase|/subscriptions/8a081f00-1372-4400-9886-a704be213b86/resourceGroups/BOND/providers/Microsoft.Sql/servers/bondsql|8a081f00-1372-4400-9886-a704be213b86|eastus      |purtoso             |            |GENDER   |mssql://bondsql.database.windows.net/CustomerDB/dbo/CustomerFlights44#GENDER|Column   |2025-07-07 20:57:38|2025-07-07 20:57:38|2025-07-30 20:55:24.456374|             |0       |Labeling      |                     |[]                           |                                                                                                                             |Automatic              |[]              |[]                     |null        |2025-07-30 21:00:00|null       |null       |\n",
      "|c9a8dc69-3321-4a54-a511-1c243c26e7d3|2025-07-30 20:58:15.533425|714a1b55-6ae7-46e7-aa08-8978b2c8746c|Purtoso           |eastus2      |AzureSqlDatabase-Crl|AzureSqlDatabase|/subscriptions/8a081f00-1372-4400-9886-a704be213b86/resourceGroups/BOND/providers/Microsoft.Sql/servers/bondsql|8a081f00-1372-4400-9886-a704be213b86|eastus      |purtoso             |            |EMAIL    |mssql://bondsql.database.windows.net/CustomerDB/dbo/CustomerFlights44#EMAIL |Column   |2025-07-07 20:57:38|2025-07-07 20:57:38|2025-07-30 20:55:24.456374|             |0       |Classification|System               |[\"MICROSOFT.PERSONAL.EMAIL\"] |[{\"Id\":\"1dab37e2-213f-a88d-7e13-064af9561e51\",\"Name\":\"MICROSOFT.PERSONAL.EMAIL\",\"Confidence\":87,\"Count\":1,\"UniqueCount\":1}]  |                       |[]              |[]                     |null        |2025-07-30 21:00:00|null       |null       |\n",
      "|c9a8dc69-3321-4a54-a511-1c243c26e7d3|2025-07-30 20:58:15.533488|714a1b55-6ae7-46e7-aa08-8978b2c8746c|Purtoso           |eastus2      |AzureSqlDatabase-Crl|AzureSqlDatabase|/subscriptions/8a081f00-1372-4400-9886-a704be213b86/resourceGroups/BOND/providers/Microsoft.Sql/servers/bondsql|8a081f00-1372-4400-9886-a704be213b86|eastus      |purtoso             |            |EMAIL    |mssql://bondsql.database.windows.net/CustomerDB/dbo/CustomerFlights44#EMAIL |Column   |2025-07-07 20:57:38|2025-07-07 20:57:38|2025-07-30 20:55:24.456374|             |0       |Labeling      |                     |[]                           |                                                                                                                             |Automatic              |[]              |[]                     |null        |2025-07-30 21:00:00|null       |null       |\n",
      "|c9a8dc69-3321-4a54-a511-1c243c26e7d3|2025-07-30 20:58:17.758257|714a1b55-6ae7-46e7-aa08-8978b2c8746c|Purtoso           |eastus2      |AzureSqlDatabase-Crl|AzureSqlDatabase|/subscriptions/8a081f00-1372-4400-9886-a704be213b86/resourceGroups/BOND/providers/Microsoft.Sql/servers/bondsql|8a081f00-1372-4400-9886-a704be213b86|eastus      |purtoso             |            |EMAIL    |mssql://bondsql.database.windows.net/CustomerDB/dbo/CustomerFlights15#EMAIL |Column   |2025-02-11 19:02:29|2025-02-11 19:02:29|2025-07-30 20:55:24.235371|             |0       |Classification|System               |[\"MICROSOFT.PERSONAL.EMAIL\"] |[{\"Id\":\"1dab37e2-213f-a88d-7e13-064af9561e51\",\"Name\":\"MICROSOFT.PERSONAL.EMAIL\",\"Confidence\":87,\"Count\":1,\"UniqueCount\":1}]  |                       |[]              |[]                     |null        |2025-07-30 21:00:00|null       |null       |\n",
      "+------------------------------------+--------------------------+------------------------------------+------------------+-------------+--------------------+----------------+---------------------------------------------------------------------------------------------------------------+------------------------------------+------------+--------------------+------------+---------+----------------------------------------------------------------------------+---------+-------------------+-------------------+--------------------------+-------------+--------+--------------+---------------------+-----------------------------+-----------------------------------------------------------------------------------------------------------------------------+-----------------------+----------------+-----------------------+------------+-------------------+-----------+-----------+\n",
      "only showing top 5 rows\n",
      "\n"
     ]
    }
   ],
   "source": [
    "# Reading from PurviewDataSensitityLogs from data lake. \n",
    "df = data_provider.read_table(\"PurviewDataSensitivityLogs\",\"BOND-2-Log-Analytics\")\n",
    "df.show(5, False)"
   ]
  },
  {
   "cell_type": "code",
   "execution_count": 8,
   "id": "2d2655ac",
   "metadata": {},
   "outputs": [
    {
     "data": {
      "application/vnd.livy.statement-meta+json": {
       "execution_finish_time": "2025-08-12T21:34:23.678875Z",
       "execution_start_time": "2025-08-12T21:34:11.9065264Z",
       "livy_statement_state": "available",
       "normalized_state": "finished",
       "parent_msg_id": "3f7cefe1-d8b5-4373-82ea-d34e02f152b9",
       "queued_time": "2025-08-12T21:34:11.9052258Z",
       "session_id": "1",
       "session_start_time": null,
       "spark_jobs": {
        "jobs": [
         {
          "completionTime": "2025-08-12T21:34:22.338GMT",
          "dataRead": 39461,
          "dataWritten": 0,
          "description": "Job group for statement 10:\n# get the latest scan results for each asset path\nwindow_spec = Window.partitionBy(\"AssetPath\").orderBy(col(\"TimeGenerated\").desc())\ndf_latest = df.withColumn(\"row_num\", row_number().over(window_spec))               .filter(col(\"row_num\") == 1)               .select(\"TimeGenerated\", \"AssetPath\", \"Classification\")\ndf_latest.show(20, False)",
          "displayName": "showString at NativeMethodAccessorImpl.java:0",
          "jobGroup": "10",
          "jobId": 9,
          "jobTags": [],
          "killedTasksSummary": {},
          "name": "showString at NativeMethodAccessorImpl.java:0",
          "numActiveStages": 0,
          "numActiveTasks": 0,
          "numCompletedIndices": 1,
          "numCompletedStages": 1,
          "numCompletedTasks": 1,
          "numFailedStages": 0,
          "numFailedTasks": 0,
          "numKilledTasks": 0,
          "numSkippedStages": 1,
          "numSkippedTasks": 2,
          "numTasks": 3,
          "rowCount": 604,
          "stageIds": [
           15,
           16
          ],
          "status": "SUCCEEDED",
          "submissionTime": "2025-08-12T21:34:21.817GMT",
          "usageDescription": ""
         },
         {
          "completionTime": "2025-08-12T21:34:21.684GMT",
          "dataRead": 7599,
          "dataWritten": 39461,
          "description": "Job group for statement 10:\n# get the latest scan results for each asset path\nwindow_spec = Window.partitionBy(\"AssetPath\").orderBy(col(\"TimeGenerated\").desc())\ndf_latest = df.withColumn(\"row_num\", row_number().over(window_spec))               .filter(col(\"row_num\") == 1)               .select(\"TimeGenerated\", \"AssetPath\", \"Classification\")\ndf_latest.show(20, False)",
          "displayName": "showString at NativeMethodAccessorImpl.java:0",
          "jobGroup": "10",
          "jobId": 8,
          "jobTags": [],
          "killedTasksSummary": {},
          "name": "showString at NativeMethodAccessorImpl.java:0",
          "numActiveStages": 0,
          "numActiveTasks": 0,
          "numCompletedIndices": 2,
          "numCompletedStages": 1,
          "numCompletedTasks": 2,
          "numFailedStages": 0,
          "numFailedTasks": 0,
          "numKilledTasks": 0,
          "numSkippedStages": 0,
          "numSkippedTasks": 0,
          "numTasks": 2,
          "rowCount": 1208,
          "stageIds": [
           14
          ],
          "status": "SUCCEEDED",
          "submissionTime": "2025-08-12T21:34:13.372GMT",
          "usageDescription": ""
         },
         {
          "completionTime": "2025-08-12T21:34:13.119GMT",
          "dataRead": 3030,
          "dataWritten": 0,
          "description": "Delta: Job group for statement 10:\n# get the latest scan results for each asset path\nwindow_spec = Window.partitionBy(\"AssetPath\").orderBy(col(\"TimeGenerated\").desc())\ndf_latest = df.withColumn(\"row_num\", row_number().over(window_spec))               .filter(col(\"row_num\") == 1)               .select(\"TimeGenerated\", \"AssetPath\", \"Classification\")\ndf_latest.show(20, False): Filtering files for query",
          "displayName": "$anonfun$recordDeltaOperationInternal$1 at SynapseLoggingShim.scala:111",
          "jobGroup": "10",
          "jobId": 7,
          "jobTags": [],
          "killedTasksSummary": {},
          "name": "$anonfun$recordDeltaOperationInternal$1 at SynapseLoggingShim.scala:111",
          "numActiveStages": 0,
          "numActiveTasks": 0,
          "numCompletedIndices": 50,
          "numCompletedStages": 1,
          "numCompletedTasks": 50,
          "numFailedStages": 0,
          "numFailedTasks": 0,
          "numKilledTasks": 0,
          "numSkippedStages": 1,
          "numSkippedTasks": 3,
          "numTasks": 53,
          "rowCount": 4,
          "stageIds": [
           12,
           13
          ],
          "status": "SUCCEEDED",
          "submissionTime": "2025-08-12T21:34:12.672GMT",
          "usageDescription": ""
         }
        ],
        "limit": 20,
        "numbers": {
         "FAILED": 0,
         "RUNNING": 0,
         "SUCCEEDED": 3,
         "UNKNOWN": 0
        },
        "rule": "ALL_DESC"
       },
       "spark_pool": "MSGSmall",
       "state": "finished",
       "statement_id": 10,
       "statement_ids": [
        10
       ]
      },
      "text/plain": [
       "StatementMeta(MSGSmall, 1, 10, Finished, Available, Finished)"
      ]
     },
     "metadata": {},
     "output_type": "display_data"
    },
    {
     "name": "stdout",
     "output_type": "stream",
     "text": [
      "+--------------------------+--------------------------------------------------------------------------------+--------------+\n",
      "|TimeGenerated [UTC]       |AssetPath                                                                       |Classification|\n",
      "+--------------------------+--------------------------------------------------------------------------------+--------------+\n",
      "|2025-07-30 20:58:19.054748|mssql://bondsql.database.windows.net/CustomerDB/dbo/CustomerFlights             |[]            |\n",
      "|2025-07-30 20:58:20.523668|mssql://bondsql.database.windows.net/CustomerDB/dbo/CustomerFlights#ADDRESS     |[]            |\n",
      "|2025-07-30 20:58:20.529545|mssql://bondsql.database.windows.net/CustomerDB/dbo/CustomerFlights#CITY        |[]            |\n",
      "|2025-07-30 20:58:20.505511|mssql://bondsql.database.windows.net/CustomerDB/dbo/CustomerFlights#EMAIL       |[]            |\n",
      "|2025-07-30 20:58:20.440493|mssql://bondsql.database.windows.net/CustomerDB/dbo/CustomerFlights#FIRSTNAME   |[]            |\n",
      "|2025-07-30 20:58:20.510411|mssql://bondsql.database.windows.net/CustomerDB/dbo/CustomerFlights#GENDER      |[]            |\n",
      "|2025-07-30 20:58:20.517362|mssql://bondsql.database.windows.net/CustomerDB/dbo/CustomerFlights#PASSPORT    |[]            |\n",
      "|2025-07-30 20:58:20.462406|mssql://bondsql.database.windows.net/CustomerDB/dbo/CustomerFlights#PHONE       |[]            |\n",
      "|2025-07-30 20:58:20.456507|mssql://bondsql.database.windows.net/CustomerDB/dbo/CustomerFlights#STATE       |[]            |\n",
      "|2025-07-30 20:58:20.286159|mssql://bondsql.database.windows.net/CustomerDB/dbo/CustomerFlights#ZIPCODE     |[]            |\n",
      "|2025-07-30 20:58:18.641508|mssql://bondsql.database.windows.net/CustomerDB/dbo/CustomerFlights111          |[]            |\n",
      "|2025-07-30 20:58:20.535012|mssql://bondsql.database.windows.net/CustomerDB/dbo/CustomerFlights111#ADDRESS  |[]            |\n",
      "|2025-07-30 20:58:20.434217|mssql://bondsql.database.windows.net/CustomerDB/dbo/CustomerFlights111#CITY     |[]            |\n",
      "|2025-07-30 20:58:20.114878|mssql://bondsql.database.windows.net/CustomerDB/dbo/CustomerFlights111#EMAIL    |[]            |\n",
      "|2025-07-30 20:58:20.064531|mssql://bondsql.database.windows.net/CustomerDB/dbo/CustomerFlights111#FIRSTNAME|[]            |\n",
      "|2025-07-30 20:58:20.105707|mssql://bondsql.database.windows.net/CustomerDB/dbo/CustomerFlights111#GENDER   |[]            |\n",
      "|2025-07-30 20:58:20.11971 |mssql://bondsql.database.windows.net/CustomerDB/dbo/CustomerFlights111#PASSPORT |[]            |\n",
      "|2025-07-30 20:58:20.110298|mssql://bondsql.database.windows.net/CustomerDB/dbo/CustomerFlights111#PHONE    |[]            |\n",
      "|2025-07-30 20:58:19.90854 |mssql://bondsql.database.windows.net/CustomerDB/dbo/CustomerFlights111#STATE    |[]            |\n",
      "|2025-07-30 20:58:19.903584|mssql://bondsql.database.windows.net/CustomerDB/dbo/CustomerFlights111#ZIPCODE  |[]            |\n",
      "+--------------------------+--------------------------------------------------------------------------------+--------------+\n",
      "only showing top 20 rows\n",
      "\n"
     ]
    },
    {
     "data": {
      "application/vnd.livy.statement-meta+json": {
       "execution_finish_time": "2025-08-12T22:14:18.9921773Z",
       "execution_start_time": "2025-08-12T22:14:09.8781966Z",
       "livy_statement_state": "available",
       "normalized_state": "finished",
       "parent_msg_id": "409ae211-3808-4adf-9ea4-1cae8b45de99",
       "queued_time": "2025-08-12T22:14:09.8770244Z",
       "session_id": "2",
       "session_start_time": null,
       "spark_jobs": {
        "jobs": [
         {
          "completionTime": "2025-08-12T22:14:18.694GMT",
          "dataRead": 39461,
          "dataWritten": 0,
          "description": "Job group for statement 5:\n# get the latest scan results for each asset path\nwindow_spec = Window.partitionBy(\"AssetPath\").orderBy(col(\"TimeGenerated\").desc())\ndf_latest = df.withColumn(\"row_num\", row_number().over(window_spec))               .filter(col(\"row_num\") == 1)               .select(\"TimeGenerated\", \"AssetPath\", \"Classification\")\ndf_latest.show(20, False)",
          "displayName": "showString at NativeMethodAccessorImpl.java:0",
          "jobGroup": "5",
          "jobId": 9,
          "jobTags": [],
          "killedTasksSummary": {},
          "name": "showString at NativeMethodAccessorImpl.java:0",
          "numActiveStages": 0,
          "numActiveTasks": 0,
          "numCompletedIndices": 1,
          "numCompletedStages": 1,
          "numCompletedTasks": 1,
          "numFailedStages": 0,
          "numFailedTasks": 0,
          "numKilledTasks": 0,
          "numSkippedStages": 1,
          "numSkippedTasks": 2,
          "numTasks": 3,
          "rowCount": 604,
          "stageIds": [
           15,
           16
          ],
          "status": "SUCCEEDED",
          "submissionTime": "2025-08-12T22:14:18.461GMT",
          "usageDescription": ""
         },
         {
          "completionTime": "2025-08-12T22:14:18.304GMT",
          "dataRead": 0,
          "dataWritten": 39461,
          "description": "Job group for statement 5:\n# get the latest scan results for each asset path\nwindow_spec = Window.partitionBy(\"AssetPath\").orderBy(col(\"TimeGenerated\").desc())\ndf_latest = df.withColumn(\"row_num\", row_number().over(window_spec))               .filter(col(\"row_num\") == 1)               .select(\"TimeGenerated\", \"AssetPath\", \"Classification\")\ndf_latest.show(20, False)",
          "displayName": "showString at NativeMethodAccessorImpl.java:0",
          "jobGroup": "5",
          "jobId": 8,
          "jobTags": [],
          "killedTasksSummary": {},
          "name": "showString at NativeMethodAccessorImpl.java:0",
          "numActiveStages": 0,
          "numActiveTasks": 0,
          "numCompletedIndices": 2,
          "numCompletedStages": 1,
          "numCompletedTasks": 2,
          "numFailedStages": 0,
          "numFailedTasks": 0,
          "numKilledTasks": 0,
          "numSkippedStages": 0,
          "numSkippedTasks": 0,
          "numTasks": 2,
          "rowCount": 1208,
          "stageIds": [
           14
          ],
          "status": "SUCCEEDED",
          "submissionTime": "2025-08-12T22:14:11.181GMT",
          "usageDescription": ""
         },
         {
          "completionTime": "2025-08-12T22:14:10.999GMT",
          "dataRead": 3030,
          "dataWritten": 0,
          "description": "Delta: Job group for statement 5:\n# get the latest scan results for each asset path\nwindow_spec = Window.partitionBy(\"AssetPath\").orderBy(col(\"TimeGenerated\").desc())\ndf_latest = df.withColumn(\"row_num\", row_number().over(window_spec))               .filter(col(\"row_num\") == 1)               .select(\"TimeGenerated\", \"AssetPath\", \"Classification\")\ndf_latest.show(20, False): Filtering files for query",
          "displayName": "$anonfun$recordDeltaOperationInternal$1 at SynapseLoggingShim.scala:111",
          "jobGroup": "5",
          "jobId": 7,
          "jobTags": [],
          "killedTasksSummary": {},
          "name": "$anonfun$recordDeltaOperationInternal$1 at SynapseLoggingShim.scala:111",
          "numActiveStages": 0,
          "numActiveTasks": 0,
          "numCompletedIndices": 50,
          "numCompletedStages": 1,
          "numCompletedTasks": 50,
          "numFailedStages": 0,
          "numFailedTasks": 0,
          "numKilledTasks": 0,
          "numSkippedStages": 1,
          "numSkippedTasks": 3,
          "numTasks": 53,
          "rowCount": 4,
          "stageIds": [
           12,
           13
          ],
          "status": "SUCCEEDED",
          "submissionTime": "2025-08-12T22:14:10.546GMT",
          "usageDescription": ""
         }
        ],
        "limit": 20,
        "numbers": {
         "FAILED": 0,
         "RUNNING": 0,
         "SUCCEEDED": 3,
         "UNKNOWN": 0
        },
        "rule": "ALL_DESC"
       },
       "spark_pool": "MSGSmall",
       "state": "finished",
       "statement_id": 5,
       "statement_ids": [
        5
       ]
      },
      "text/plain": [
       "StatementMeta(MSGSmall, 2, 5, Finished, Available, Finished)"
      ]
     },
     "metadata": {},
     "output_type": "display_data"
    },
    {
     "name": "stdout",
     "output_type": "stream",
     "text": [
      "+--------------------------+--------------------------------------------------------------------------------+--------------+\n",
      "|TimeGenerated [UTC]       |AssetPath                                                                       |Classification|\n",
      "+--------------------------+--------------------------------------------------------------------------------+--------------+\n",
      "|2025-07-30 20:58:19.054748|mssql://bondsql.database.windows.net/CustomerDB/dbo/CustomerFlights             |[]            |\n",
      "|2025-07-30 20:58:20.523668|mssql://bondsql.database.windows.net/CustomerDB/dbo/CustomerFlights#ADDRESS     |[]            |\n",
      "|2025-07-30 20:58:20.529545|mssql://bondsql.database.windows.net/CustomerDB/dbo/CustomerFlights#CITY        |[]            |\n",
      "|2025-07-30 20:58:20.505511|mssql://bondsql.database.windows.net/CustomerDB/dbo/CustomerFlights#EMAIL       |[]            |\n",
      "|2025-07-30 20:58:20.440493|mssql://bondsql.database.windows.net/CustomerDB/dbo/CustomerFlights#FIRSTNAME   |[]            |\n",
      "|2025-07-30 20:58:20.510411|mssql://bondsql.database.windows.net/CustomerDB/dbo/CustomerFlights#GENDER      |[]            |\n",
      "|2025-07-30 20:58:20.517362|mssql://bondsql.database.windows.net/CustomerDB/dbo/CustomerFlights#PASSPORT    |[]            |\n",
      "|2025-07-30 20:58:20.462406|mssql://bondsql.database.windows.net/CustomerDB/dbo/CustomerFlights#PHONE       |[]            |\n",
      "|2025-07-30 20:58:20.456507|mssql://bondsql.database.windows.net/CustomerDB/dbo/CustomerFlights#STATE       |[]            |\n",
      "|2025-07-30 20:58:20.286159|mssql://bondsql.database.windows.net/CustomerDB/dbo/CustomerFlights#ZIPCODE     |[]            |\n",
      "|2025-07-30 20:58:18.641508|mssql://bondsql.database.windows.net/CustomerDB/dbo/CustomerFlights111          |[]            |\n",
      "|2025-07-30 20:58:20.535012|mssql://bondsql.database.windows.net/CustomerDB/dbo/CustomerFlights111#ADDRESS  |[]            |\n",
      "|2025-07-30 20:58:20.434217|mssql://bondsql.database.windows.net/CustomerDB/dbo/CustomerFlights111#CITY     |[]            |\n",
      "|2025-07-30 20:58:20.114878|mssql://bondsql.database.windows.net/CustomerDB/dbo/CustomerFlights111#EMAIL    |[]            |\n",
      "|2025-07-30 20:58:20.064531|mssql://bondsql.database.windows.net/CustomerDB/dbo/CustomerFlights111#FIRSTNAME|[]            |\n",
      "|2025-07-30 20:58:20.105707|mssql://bondsql.database.windows.net/CustomerDB/dbo/CustomerFlights111#GENDER   |[]            |\n",
      "|2025-07-30 20:58:20.11971 |mssql://bondsql.database.windows.net/CustomerDB/dbo/CustomerFlights111#PASSPORT |[]            |\n",
      "|2025-07-30 20:58:20.110298|mssql://bondsql.database.windows.net/CustomerDB/dbo/CustomerFlights111#PHONE    |[]            |\n",
      "|2025-07-30 20:58:19.90854 |mssql://bondsql.database.windows.net/CustomerDB/dbo/CustomerFlights111#STATE    |[]            |\n",
      "|2025-07-30 20:58:19.903584|mssql://bondsql.database.windows.net/CustomerDB/dbo/CustomerFlights111#ZIPCODE  |[]            |\n",
      "+--------------------------+--------------------------------------------------------------------------------+--------------+\n",
      "only showing top 20 rows\n",
      "\n"
     ]
    },
    {
     "data": {
      "application/vnd.livy.statement-meta+json": {
       "execution_finish_time": "2025-08-14T20:21:41.6917574Z",
       "execution_start_time": "2025-08-14T20:21:37.3359139Z",
       "livy_statement_state": "available",
       "normalized_state": "finished",
       "parent_msg_id": "81be4048-dca7-4c65-b4e9-fede4e554e22",
       "queued_time": "2025-08-14T20:21:37.3346951Z",
       "session_id": "6",
       "session_start_time": null,
       "spark_jobs": {
        "jobs": [
         {
          "completionTime": "2025-08-14T20:21:41.085GMT",
          "dataRead": 39461,
          "dataWritten": 0,
          "description": "Job group for statement 9:\n# get the latest scan results for each asset path\nwindow_spec = Window.partitionBy(\"AssetPath\").orderBy(col(\"TimeGenerated\").desc())\ndf_latest = df.withColumn(\"row_num\", row_number().over(window_spec))               .filter(col(\"row_num\") == 1)               .select(\"TimeGenerated\", \"AssetPath\", \"Classification\")\ndf_latest.show(20, False)",
          "displayName": "showString at NativeMethodAccessorImpl.java:0",
          "jobGroup": "9",
          "jobId": 9,
          "jobTags": [],
          "killedTasksSummary": {},
          "name": "showString at NativeMethodAccessorImpl.java:0",
          "numActiveStages": 0,
          "numActiveTasks": 0,
          "numCompletedIndices": 1,
          "numCompletedStages": 1,
          "numCompletedTasks": 1,
          "numFailedStages": 0,
          "numFailedTasks": 0,
          "numKilledTasks": 0,
          "numSkippedStages": 1,
          "numSkippedTasks": 2,
          "numTasks": 3,
          "rowCount": 604,
          "stageIds": [
           15,
           16
          ],
          "status": "SUCCEEDED",
          "submissionTime": "2025-08-14T20:21:40.797GMT",
          "usageDescription": ""
         },
         {
          "completionTime": "2025-08-14T20:21:40.675GMT",
          "dataRead": 7599,
          "dataWritten": 39461,
          "description": "Job group for statement 9:\n# get the latest scan results for each asset path\nwindow_spec = Window.partitionBy(\"AssetPath\").orderBy(col(\"TimeGenerated\").desc())\ndf_latest = df.withColumn(\"row_num\", row_number().over(window_spec))               .filter(col(\"row_num\") == 1)               .select(\"TimeGenerated\", \"AssetPath\", \"Classification\")\ndf_latest.show(20, False)",
          "displayName": "showString at NativeMethodAccessorImpl.java:0",
          "jobGroup": "9",
          "jobId": 8,
          "jobTags": [],
          "killedTasksSummary": {},
          "name": "showString at NativeMethodAccessorImpl.java:0",
          "numActiveStages": 0,
          "numActiveTasks": 0,
          "numCompletedIndices": 2,
          "numCompletedStages": 1,
          "numCompletedTasks": 2,
          "numFailedStages": 0,
          "numFailedTasks": 0,
          "numKilledTasks": 0,
          "numSkippedStages": 0,
          "numSkippedTasks": 0,
          "numTasks": 2,
          "rowCount": 1208,
          "stageIds": [
           14
          ],
          "status": "SUCCEEDED",
          "submissionTime": "2025-08-14T20:21:38.867GMT",
          "usageDescription": ""
         },
         {
          "completionTime": "2025-08-14T20:21:38.502GMT",
          "dataRead": 3030,
          "dataWritten": 0,
          "description": "Delta: Job group for statement 9:\n# get the latest scan results for each asset path\nwindow_spec = Window.partitionBy(\"AssetPath\").orderBy(col(\"TimeGenerated\").desc())\ndf_latest = df.withColumn(\"row_num\", row_number().over(window_spec))               .filter(col(\"row_num\") == 1)               .select(\"TimeGenerated\", \"AssetPath\", \"Classification\")\ndf_latest.show(20, False): Filtering files for query",
          "displayName": "$anonfun$recordDeltaOperationInternal$1 at SynapseLoggingShim.scala:111",
          "jobGroup": "9",
          "jobId": 7,
          "jobTags": [],
          "killedTasksSummary": {},
          "name": "$anonfun$recordDeltaOperationInternal$1 at SynapseLoggingShim.scala:111",
          "numActiveStages": 0,
          "numActiveTasks": 0,
          "numCompletedIndices": 50,
          "numCompletedStages": 1,
          "numCompletedTasks": 50,
          "numFailedStages": 0,
          "numFailedTasks": 0,
          "numKilledTasks": 0,
          "numSkippedStages": 1,
          "numSkippedTasks": 3,
          "numTasks": 53,
          "rowCount": 4,
          "stageIds": [
           12,
           13
          ],
          "status": "SUCCEEDED",
          "submissionTime": "2025-08-14T20:21:38.029GMT",
          "usageDescription": ""
         }
        ],
        "limit": 20,
        "numbers": {
         "FAILED": 0,
         "RUNNING": 0,
         "SUCCEEDED": 3,
         "UNKNOWN": 0
        },
        "rule": "ALL_DESC"
       },
       "spark_pool": "MSGSmall",
       "state": "finished",
       "statement_id": 9,
       "statement_ids": [
        9
       ]
      },
      "text/plain": [
       "StatementMeta(MSGSmall, 6, 9, Finished, Available, Finished)"
      ]
     },
     "metadata": {},
     "output_type": "display_data"
    },
    {
     "name": "stdout",
     "output_type": "stream",
     "text": [
      "+--------------------------+--------------------------------------------------------------------------------+--------------+\n",
      "|TimeGenerated [UTC]       |AssetPath                                                                       |Classification|\n",
      "+--------------------------+--------------------------------------------------------------------------------+--------------+\n",
      "|2025-07-30 20:58:19.054748|mssql://bondsql.database.windows.net/CustomerDB/dbo/CustomerFlights             |[]            |\n",
      "|2025-07-30 20:58:20.523668|mssql://bondsql.database.windows.net/CustomerDB/dbo/CustomerFlights#ADDRESS     |[]            |\n",
      "|2025-07-30 20:58:20.529545|mssql://bondsql.database.windows.net/CustomerDB/dbo/CustomerFlights#CITY        |[]            |\n",
      "|2025-07-30 20:58:20.505511|mssql://bondsql.database.windows.net/CustomerDB/dbo/CustomerFlights#EMAIL       |[]            |\n",
      "|2025-07-30 20:58:20.440493|mssql://bondsql.database.windows.net/CustomerDB/dbo/CustomerFlights#FIRSTNAME   |[]            |\n",
      "|2025-07-30 20:58:20.510411|mssql://bondsql.database.windows.net/CustomerDB/dbo/CustomerFlights#GENDER      |[]            |\n",
      "|2025-07-30 20:58:20.517362|mssql://bondsql.database.windows.net/CustomerDB/dbo/CustomerFlights#PASSPORT    |[]            |\n",
      "|2025-07-30 20:58:20.462406|mssql://bondsql.database.windows.net/CustomerDB/dbo/CustomerFlights#PHONE       |[]            |\n",
      "|2025-07-30 20:58:20.456507|mssql://bondsql.database.windows.net/CustomerDB/dbo/CustomerFlights#STATE       |[]            |\n",
      "|2025-07-30 20:58:20.286159|mssql://bondsql.database.windows.net/CustomerDB/dbo/CustomerFlights#ZIPCODE     |[]            |\n",
      "|2025-07-30 20:58:18.641508|mssql://bondsql.database.windows.net/CustomerDB/dbo/CustomerFlights111          |[]            |\n",
      "|2025-07-30 20:58:20.535012|mssql://bondsql.database.windows.net/CustomerDB/dbo/CustomerFlights111#ADDRESS  |[]            |\n",
      "|2025-07-30 20:58:20.434217|mssql://bondsql.database.windows.net/CustomerDB/dbo/CustomerFlights111#CITY     |[]            |\n",
      "|2025-07-30 20:58:20.114878|mssql://bondsql.database.windows.net/CustomerDB/dbo/CustomerFlights111#EMAIL    |[]            |\n",
      "|2025-07-30 20:58:20.064531|mssql://bondsql.database.windows.net/CustomerDB/dbo/CustomerFlights111#FIRSTNAME|[]            |\n",
      "|2025-07-30 20:58:20.105707|mssql://bondsql.database.windows.net/CustomerDB/dbo/CustomerFlights111#GENDER   |[]            |\n",
      "|2025-07-30 20:58:20.11971 |mssql://bondsql.database.windows.net/CustomerDB/dbo/CustomerFlights111#PASSPORT |[]            |\n",
      "|2025-07-30 20:58:20.110298|mssql://bondsql.database.windows.net/CustomerDB/dbo/CustomerFlights111#PHONE    |[]            |\n",
      "|2025-07-30 20:58:19.90854 |mssql://bondsql.database.windows.net/CustomerDB/dbo/CustomerFlights111#STATE    |[]            |\n",
      "|2025-07-30 20:58:19.903584|mssql://bondsql.database.windows.net/CustomerDB/dbo/CustomerFlights111#ZIPCODE  |[]            |\n",
      "+--------------------------+--------------------------------------------------------------------------------+--------------+\n",
      "only showing top 20 rows\n",
      "\n"
     ]
    }
   ],
   "source": [
    "# get the latest scan results for each asset path\n",
    "window_spec = Window.partitionBy(\"AssetPath\").orderBy(col(\"TimeGenerated\").desc())\n",
    "df_latest = df.withColumn(\"row_num\", row_number().over(window_spec)) \\\n",
    "              .filter(col(\"row_num\") == 1) \\\n",
    "              .select(\"TimeGenerated\", \"AssetPath\", \"Classification\")\n",
    "df_latest.show(20, False)"
   ]
  },
  {
   "cell_type": "code",
   "execution_count": 9,
   "id": "1d9277ad",
   "metadata": {},
   "outputs": [
    {
     "data": {
      "application/vnd.livy.statement-meta+json": {
       "execution_finish_time": "2025-08-12T21:35:15.164866Z",
       "execution_start_time": "2025-08-12T21:35:10.898835Z",
       "livy_statement_state": "available",
       "normalized_state": "finished",
       "parent_msg_id": "c8a65b4e-8d62-4dd8-8857-b8ab0c50fcb2",
       "queued_time": "2025-08-12T21:35:10.8975633Z",
       "session_id": "1",
       "session_start_time": null,
       "spark_jobs": {
        "jobs": [
         {
          "completionTime": "2025-08-12T21:35:14.535GMT",
          "dataRead": 34471,
          "dataWritten": 0,
          "description": "Job group for statement 11:\n# Filters out rows without classifications, Gets the latest scan results for each asset path. Returns columns: TimeGenerated, AssetPath, Classification\ndf_latest = df.filter(\n                (col(\"Classification\").isNotNull()) & \n                (length(col(\"Classification\")) > 2) &\n                (col(\"TimeGenerated\") >= expr(\"current_timestamp() - interval 1440 hours\")) # updated this to desired period, e.g., 24 hours\n              )               .withColumn(\"row_num\", row_number().over(window_spec))               .filter(col(\"row_num\") == 1)               .select(\"AssetPath\", \"Classification\")\n\n\ndf_latest.show(20, False)",
          "displayName": "showString at NativeMethodAccessorImpl.java:0",
          "jobGroup": "11",
          "jobId": 12,
          "jobTags": [],
          "killedTasksSummary": {},
          "name": "showString at NativeMethodAccessorImpl.java:0",
          "numActiveStages": 0,
          "numActiveTasks": 0,
          "numCompletedIndices": 1,
          "numCompletedStages": 1,
          "numCompletedTasks": 1,
          "numFailedStages": 0,
          "numFailedTasks": 0,
          "numKilledTasks": 0,
          "numSkippedStages": 1,
          "numSkippedTasks": 2,
          "numTasks": 3,
          "rowCount": 300,
          "stageIds": [
           20,
           21
          ],
          "status": "SUCCEEDED",
          "submissionTime": "2025-08-12T21:35:14.273GMT",
          "usageDescription": ""
         },
         {
          "completionTime": "2025-08-12T21:35:14.231GMT",
          "dataRead": 0,
          "dataWritten": 34471,
          "description": "Job group for statement 11:\n# Filters out rows without classifications, Gets the latest scan results for each asset path. Returns columns: TimeGenerated, AssetPath, Classification\ndf_latest = df.filter(\n                (col(\"Classification\").isNotNull()) & \n                (length(col(\"Classification\")) > 2) &\n                (col(\"TimeGenerated\") >= expr(\"current_timestamp() - interval 1440 hours\")) # updated this to desired period, e.g., 24 hours\n              )               .withColumn(\"row_num\", row_number().over(window_spec))               .filter(col(\"row_num\") == 1)               .select(\"AssetPath\", \"Classification\")\n\n\ndf_latest.show(20, False)",
          "displayName": "showString at NativeMethodAccessorImpl.java:0",
          "jobGroup": "11",
          "jobId": 11,
          "jobTags": [],
          "killedTasksSummary": {},
          "name": "showString at NativeMethodAccessorImpl.java:0",
          "numActiveStages": 0,
          "numActiveTasks": 0,
          "numCompletedIndices": 2,
          "numCompletedStages": 1,
          "numCompletedTasks": 2,
          "numFailedStages": 0,
          "numFailedTasks": 0,
          "numKilledTasks": 0,
          "numSkippedStages": 0,
          "numSkippedTasks": 0,
          "numTasks": 2,
          "rowCount": 904,
          "stageIds": [
           19
          ],
          "status": "SUCCEEDED",
          "submissionTime": "2025-08-12T21:35:13.783GMT",
          "usageDescription": ""
         },
         {
          "completionTime": "2025-08-12T21:35:13.369GMT",
          "dataRead": 1913,
          "dataWritten": 0,
          "description": "Delta: Job group for statement 11:\n# Filters out rows without classifications, Gets the latest scan results for each asset path. Returns columns: TimeGenerated, AssetPath, Classification\ndf_latest = df.filter(\n                (col(\"Classification\").isNotNull()) & \n                (length(col(\"Classification\")) > 2) &\n                (col(\"TimeGenerated\") >= expr(\"current_timestamp() - interval 1440 hours\")) # updated this to desired period, e.g., 24 hours\n              )               .withColumn(\"row_num\", row_number().over(window_spec))               .filter(col(\"row_num\") == 1)               .select(\"AssetPath\", \"Classification\")\n\n\ndf_latest.show(20, False): Filtering files for query",
          "displayName": "$anonfun$recordDeltaOperationInternal$1 at SynapseLoggingShim.scala:111",
          "jobGroup": "11",
          "jobId": 10,
          "jobTags": [],
          "killedTasksSummary": {},
          "name": "$anonfun$recordDeltaOperationInternal$1 at SynapseLoggingShim.scala:111",
          "numActiveStages": 0,
          "numActiveTasks": 0,
          "numCompletedIndices": 50,
          "numCompletedStages": 1,
          "numCompletedTasks": 50,
          "numFailedStages": 0,
          "numFailedTasks": 0,
          "numKilledTasks": 0,
          "numSkippedStages": 1,
          "numSkippedTasks": 3,
          "numTasks": 53,
          "rowCount": 2,
          "stageIds": [
           17,
           18
          ],
          "status": "SUCCEEDED",
          "submissionTime": "2025-08-12T21:35:12.268GMT",
          "usageDescription": ""
         }
        ],
        "limit": 20,
        "numbers": {
         "FAILED": 0,
         "RUNNING": 0,
         "SUCCEEDED": 3,
         "UNKNOWN": 0
        },
        "rule": "ALL_DESC"
       },
       "spark_pool": "MSGSmall",
       "state": "finished",
       "statement_id": 11,
       "statement_ids": [
        11
       ]
      },
      "text/plain": [
       "StatementMeta(MSGSmall, 1, 11, Finished, Available, Finished)"
      ]
     },
     "metadata": {},
     "output_type": "display_data"
    },
    {
     "name": "stdout",
     "output_type": "stream",
     "text": [
      "+--------------------------------------------------------------------------------+-----------------------------------------------------------------------------------------------------------------------------------------------------------------------------------------------------------------------------------------------------------------------------------------+\n",
      "|AssetPath                                                                       |Classification                                                                                                                                                                                                                                                                           |\n",
      "+--------------------------------------------------------------------------------+-----------------------------------------------------------------------------------------------------------------------------------------------------------------------------------------------------------------------------------------------------------------------------------------+\n",
      "|mssql://bondsql.database.windows.net/CustomerDB/dbo/CustomerFlights             |[\"MICROSOFT.GOVERNMENT.CITY_NAME\",\"MICROSOFT.GOVERNMENT.US.STATE\",\"MICROSOFT.GOVERNMENT.US.ZIP_CODE\",\"MICROSOFT.PERSONAL.EMAIL\",\"MICROSOFT.PERSONAL.GENDER\",\"MICROSOFT.PERSONAL.NAME\",\"MICROSOFT.PERSONAL.PHYSICALADDRESS\",\"MICROSOFT.PERSONAL.US.PHONE_NUMBER\",\"Taiwan Passport Number\"]|\n",
      "|mssql://bondsql.database.windows.net/CustomerDB/dbo/CustomerFlights#ADDRESS     |[\"MICROSOFT.PERSONAL.PHYSICALADDRESS\"]                                                                                                                                                                                                                                                   |\n",
      "|mssql://bondsql.database.windows.net/CustomerDB/dbo/CustomerFlights#CITY        |[\"MICROSOFT.GOVERNMENT.CITY_NAME\"]                                                                                                                                                                                                                                                       |\n",
      "|mssql://bondsql.database.windows.net/CustomerDB/dbo/CustomerFlights#EMAIL       |[\"MICROSOFT.PERSONAL.EMAIL\"]                                                                                                                                                                                                                                                             |\n",
      "|mssql://bondsql.database.windows.net/CustomerDB/dbo/CustomerFlights#FIRSTNAME   |[\"MICROSOFT.PERSONAL.NAME\"]                                                                                                                                                                                                                                                              |\n",
      "|mssql://bondsql.database.windows.net/CustomerDB/dbo/CustomerFlights#GENDER      |[\"MICROSOFT.PERSONAL.GENDER\"]                                                                                                                                                                                                                                                            |\n",
      "|mssql://bondsql.database.windows.net/CustomerDB/dbo/CustomerFlights#PASSPORT    |[\"Taiwan Passport Number\"]                                                                                                                                                                                                                                                               |\n",
      "|mssql://bondsql.database.windows.net/CustomerDB/dbo/CustomerFlights#PHONE       |[\"MICROSOFT.PERSONAL.US.PHONE_NUMBER\"]                                                                                                                                                                                                                                                   |\n",
      "|mssql://bondsql.database.windows.net/CustomerDB/dbo/CustomerFlights#STATE       |[\"MICROSOFT.GOVERNMENT.US.STATE\"]                                                                                                                                                                                                                                                        |\n",
      "|mssql://bondsql.database.windows.net/CustomerDB/dbo/CustomerFlights#ZIPCODE     |[\"MICROSOFT.GOVERNMENT.US.ZIP_CODE\"]                                                                                                                                                                                                                                                     |\n",
      "|mssql://bondsql.database.windows.net/CustomerDB/dbo/CustomerFlights111          |[\"MICROSOFT.GOVERNMENT.CITY_NAME\",\"MICROSOFT.GOVERNMENT.US.STATE\",\"MICROSOFT.GOVERNMENT.US.ZIP_CODE\",\"MICROSOFT.PERSONAL.EMAIL\",\"MICROSOFT.PERSONAL.GENDER\",\"MICROSOFT.PERSONAL.NAME\",\"MICROSOFT.PERSONAL.PHYSICALADDRESS\",\"MICROSOFT.PERSONAL.US.PHONE_NUMBER\",\"Taiwan Passport Number\"]|\n",
      "|mssql://bondsql.database.windows.net/CustomerDB/dbo/CustomerFlights111#ADDRESS  |[\"MICROSOFT.PERSONAL.PHYSICALADDRESS\"]                                                                                                                                                                                                                                                   |\n",
      "|mssql://bondsql.database.windows.net/CustomerDB/dbo/CustomerFlights111#CITY     |[\"MICROSOFT.GOVERNMENT.CITY_NAME\"]                                                                                                                                                                                                                                                       |\n",
      "|mssql://bondsql.database.windows.net/CustomerDB/dbo/CustomerFlights111#EMAIL    |[\"MICROSOFT.PERSONAL.EMAIL\"]                                                                                                                                                                                                                                                             |\n",
      "|mssql://bondsql.database.windows.net/CustomerDB/dbo/CustomerFlights111#FIRSTNAME|[\"MICROSOFT.PERSONAL.NAME\"]                                                                                                                                                                                                                                                              |\n",
      "|mssql://bondsql.database.windows.net/CustomerDB/dbo/CustomerFlights111#GENDER   |[\"MICROSOFT.PERSONAL.GENDER\"]                                                                                                                                                                                                                                                            |\n",
      "|mssql://bondsql.database.windows.net/CustomerDB/dbo/CustomerFlights111#PASSPORT |[\"Taiwan Passport Number\"]                                                                                                                                                                                                                                                               |\n",
      "|mssql://bondsql.database.windows.net/CustomerDB/dbo/CustomerFlights111#PHONE    |[\"MICROSOFT.PERSONAL.US.PHONE_NUMBER\"]                                                                                                                                                                                                                                                   |\n",
      "|mssql://bondsql.database.windows.net/CustomerDB/dbo/CustomerFlights111#STATE    |[\"MICROSOFT.GOVERNMENT.US.STATE\"]                                                                                                                                                                                                                                                        |\n",
      "|mssql://bondsql.database.windows.net/CustomerDB/dbo/CustomerFlights111#ZIPCODE  |[\"MICROSOFT.GOVERNMENT.US.ZIP_CODE\"]                                                                                                                                                                                                                                                     |\n",
      "+--------------------------------------------------------------------------------+-----------------------------------------------------------------------------------------------------------------------------------------------------------------------------------------------------------------------------------------------------------------------------------------+\n",
      "only showing top 20 rows\n",
      "\n"
     ]
    },
    {
     "data": {
      "application/vnd.livy.statement-meta+json": {
       "execution_finish_time": "2025-08-12T22:14:23.383313Z",
       "execution_start_time": "2025-08-12T22:14:19.0978405Z",
       "livy_statement_state": "available",
       "normalized_state": "finished",
       "parent_msg_id": "3edba01f-fdc6-42c6-87fb-49c437235b3d",
       "queued_time": "2025-08-12T22:14:19.0966776Z",
       "session_id": "2",
       "session_start_time": null,
       "spark_jobs": {
        "jobs": [
         {
          "completionTime": "2025-08-12T22:14:22.787GMT",
          "dataRead": 34471,
          "dataWritten": 0,
          "description": "Job group for statement 6:\n# Filters out rows without classifications, Gets the latest scan results for each asset path. Returns columns: TimeGenerated, AssetPath, Classification\ndf_latest = df.filter(\n                (col(\"Classification\").isNotNull()) & \n                (length(col(\"Classification\")) > 2) &\n                (col(\"TimeGenerated\") >= expr(\"current_timestamp() - interval 1440 hours\")) # updated this to desired period, e.g., 24 hours\n              )               .withColumn(\"row_num\", row_number().over(window_spec))               .filter(col(\"row_num\") == 1)               .select(\"AssetPath\", \"Classification\")\n\n\ndf_latest.show(20, False)",
          "displayName": "showString at NativeMethodAccessorImpl.java:0",
          "jobGroup": "6",
          "jobId": 12,
          "jobTags": [],
          "killedTasksSummary": {},
          "name": "showString at NativeMethodAccessorImpl.java:0",
          "numActiveStages": 0,
          "numActiveTasks": 0,
          "numCompletedIndices": 1,
          "numCompletedStages": 1,
          "numCompletedTasks": 1,
          "numFailedStages": 0,
          "numFailedTasks": 0,
          "numKilledTasks": 0,
          "numSkippedStages": 1,
          "numSkippedTasks": 2,
          "numTasks": 3,
          "rowCount": 300,
          "stageIds": [
           20,
           21
          ],
          "status": "SUCCEEDED",
          "submissionTime": "2025-08-12T22:14:22.372GMT",
          "usageDescription": ""
         },
         {
          "completionTime": "2025-08-12T22:14:22.277GMT",
          "dataRead": 0,
          "dataWritten": 34471,
          "description": "Job group for statement 6:\n# Filters out rows without classifications, Gets the latest scan results for each asset path. Returns columns: TimeGenerated, AssetPath, Classification\ndf_latest = df.filter(\n                (col(\"Classification\").isNotNull()) & \n                (length(col(\"Classification\")) > 2) &\n                (col(\"TimeGenerated\") >= expr(\"current_timestamp() - interval 1440 hours\")) # updated this to desired period, e.g., 24 hours\n              )               .withColumn(\"row_num\", row_number().over(window_spec))               .filter(col(\"row_num\") == 1)               .select(\"AssetPath\", \"Classification\")\n\n\ndf_latest.show(20, False)",
          "displayName": "showString at NativeMethodAccessorImpl.java:0",
          "jobGroup": "6",
          "jobId": 11,
          "jobTags": [],
          "killedTasksSummary": {},
          "name": "showString at NativeMethodAccessorImpl.java:0",
          "numActiveStages": 0,
          "numActiveTasks": 0,
          "numCompletedIndices": 2,
          "numCompletedStages": 1,
          "numCompletedTasks": 2,
          "numFailedStages": 0,
          "numFailedTasks": 0,
          "numKilledTasks": 0,
          "numSkippedStages": 0,
          "numSkippedTasks": 0,
          "numTasks": 2,
          "rowCount": 904,
          "stageIds": [
           19
          ],
          "status": "SUCCEEDED",
          "submissionTime": "2025-08-12T22:14:21.881GMT",
          "usageDescription": ""
         },
         {
          "completionTime": "2025-08-12T22:14:21.579GMT",
          "dataRead": 1913,
          "dataWritten": 0,
          "description": "Delta: Job group for statement 6:\n# Filters out rows without classifications, Gets the latest scan results for each asset path. Returns columns: TimeGenerated, AssetPath, Classification\ndf_latest = df.filter(\n                (col(\"Classification\").isNotNull()) & \n                (length(col(\"Classification\")) > 2) &\n                (col(\"TimeGenerated\") >= expr(\"current_timestamp() - interval 1440 hours\")) # updated this to desired period, e.g., 24 hours\n              )               .withColumn(\"row_num\", row_number().over(window_spec))               .filter(col(\"row_num\") == 1)               .select(\"AssetPath\", \"Classification\")\n\n\ndf_latest.show(20, False): Filtering files for query",
          "displayName": "$anonfun$recordDeltaOperationInternal$1 at SynapseLoggingShim.scala:111",
          "jobGroup": "6",
          "jobId": 10,
          "jobTags": [],
          "killedTasksSummary": {},
          "name": "$anonfun$recordDeltaOperationInternal$1 at SynapseLoggingShim.scala:111",
          "numActiveStages": 0,
          "numActiveTasks": 0,
          "numCompletedIndices": 50,
          "numCompletedStages": 1,
          "numCompletedTasks": 50,
          "numFailedStages": 0,
          "numFailedTasks": 0,
          "numKilledTasks": 0,
          "numSkippedStages": 1,
          "numSkippedTasks": 3,
          "numTasks": 53,
          "rowCount": 2,
          "stageIds": [
           17,
           18
          ],
          "status": "SUCCEEDED",
          "submissionTime": "2025-08-12T22:14:20.189GMT",
          "usageDescription": ""
         }
        ],
        "limit": 20,
        "numbers": {
         "FAILED": 0,
         "RUNNING": 0,
         "SUCCEEDED": 3,
         "UNKNOWN": 0
        },
        "rule": "ALL_DESC"
       },
       "spark_pool": "MSGSmall",
       "state": "finished",
       "statement_id": 6,
       "statement_ids": [
        6
       ]
      },
      "text/plain": [
       "StatementMeta(MSGSmall, 2, 6, Finished, Available, Finished)"
      ]
     },
     "metadata": {},
     "output_type": "display_data"
    },
    {
     "name": "stdout",
     "output_type": "stream",
     "text": [
      "+--------------------------------------------------------------------------------+-----------------------------------------------------------------------------------------------------------------------------------------------------------------------------------------------------------------------------------------------------------------------------------------+\n",
      "|AssetPath                                                                       |Classification                                                                                                                                                                                                                                                                           |\n",
      "+--------------------------------------------------------------------------------+-----------------------------------------------------------------------------------------------------------------------------------------------------------------------------------------------------------------------------------------------------------------------------------------+\n",
      "|mssql://bondsql.database.windows.net/CustomerDB/dbo/CustomerFlights             |[\"MICROSOFT.GOVERNMENT.CITY_NAME\",\"MICROSOFT.GOVERNMENT.US.STATE\",\"MICROSOFT.GOVERNMENT.US.ZIP_CODE\",\"MICROSOFT.PERSONAL.EMAIL\",\"MICROSOFT.PERSONAL.GENDER\",\"MICROSOFT.PERSONAL.NAME\",\"MICROSOFT.PERSONAL.PHYSICALADDRESS\",\"MICROSOFT.PERSONAL.US.PHONE_NUMBER\",\"Taiwan Passport Number\"]|\n",
      "|mssql://bondsql.database.windows.net/CustomerDB/dbo/CustomerFlights#ADDRESS     |[\"MICROSOFT.PERSONAL.PHYSICALADDRESS\"]                                                                                                                                                                                                                                                   |\n",
      "|mssql://bondsql.database.windows.net/CustomerDB/dbo/CustomerFlights#CITY        |[\"MICROSOFT.GOVERNMENT.CITY_NAME\"]                                                                                                                                                                                                                                                       |\n",
      "|mssql://bondsql.database.windows.net/CustomerDB/dbo/CustomerFlights#EMAIL       |[\"MICROSOFT.PERSONAL.EMAIL\"]                                                                                                                                                                                                                                                             |\n",
      "|mssql://bondsql.database.windows.net/CustomerDB/dbo/CustomerFlights#FIRSTNAME   |[\"MICROSOFT.PERSONAL.NAME\"]                                                                                                                                                                                                                                                              |\n",
      "|mssql://bondsql.database.windows.net/CustomerDB/dbo/CustomerFlights#GENDER      |[\"MICROSOFT.PERSONAL.GENDER\"]                                                                                                                                                                                                                                                            |\n",
      "|mssql://bondsql.database.windows.net/CustomerDB/dbo/CustomerFlights#PASSPORT    |[\"Taiwan Passport Number\"]                                                                                                                                                                                                                                                               |\n",
      "|mssql://bondsql.database.windows.net/CustomerDB/dbo/CustomerFlights#PHONE       |[\"MICROSOFT.PERSONAL.US.PHONE_NUMBER\"]                                                                                                                                                                                                                                                   |\n",
      "|mssql://bondsql.database.windows.net/CustomerDB/dbo/CustomerFlights#STATE       |[\"MICROSOFT.GOVERNMENT.US.STATE\"]                                                                                                                                                                                                                                                        |\n",
      "|mssql://bondsql.database.windows.net/CustomerDB/dbo/CustomerFlights#ZIPCODE     |[\"MICROSOFT.GOVERNMENT.US.ZIP_CODE\"]                                                                                                                                                                                                                                                     |\n",
      "|mssql://bondsql.database.windows.net/CustomerDB/dbo/CustomerFlights111          |[\"MICROSOFT.GOVERNMENT.CITY_NAME\",\"MICROSOFT.GOVERNMENT.US.STATE\",\"MICROSOFT.GOVERNMENT.US.ZIP_CODE\",\"MICROSOFT.PERSONAL.EMAIL\",\"MICROSOFT.PERSONAL.GENDER\",\"MICROSOFT.PERSONAL.NAME\",\"MICROSOFT.PERSONAL.PHYSICALADDRESS\",\"MICROSOFT.PERSONAL.US.PHONE_NUMBER\",\"Taiwan Passport Number\"]|\n",
      "|mssql://bondsql.database.windows.net/CustomerDB/dbo/CustomerFlights111#ADDRESS  |[\"MICROSOFT.PERSONAL.PHYSICALADDRESS\"]                                                                                                                                                                                                                                                   |\n",
      "|mssql://bondsql.database.windows.net/CustomerDB/dbo/CustomerFlights111#CITY     |[\"MICROSOFT.GOVERNMENT.CITY_NAME\"]                                                                                                                                                                                                                                                       |\n",
      "|mssql://bondsql.database.windows.net/CustomerDB/dbo/CustomerFlights111#EMAIL    |[\"MICROSOFT.PERSONAL.EMAIL\"]                                                                                                                                                                                                                                                             |\n",
      "|mssql://bondsql.database.windows.net/CustomerDB/dbo/CustomerFlights111#FIRSTNAME|[\"MICROSOFT.PERSONAL.NAME\"]                                                                                                                                                                                                                                                              |\n",
      "|mssql://bondsql.database.windows.net/CustomerDB/dbo/CustomerFlights111#GENDER   |[\"MICROSOFT.PERSONAL.GENDER\"]                                                                                                                                                                                                                                                            |\n",
      "|mssql://bondsql.database.windows.net/CustomerDB/dbo/CustomerFlights111#PASSPORT |[\"Taiwan Passport Number\"]                                                                                                                                                                                                                                                               |\n",
      "|mssql://bondsql.database.windows.net/CustomerDB/dbo/CustomerFlights111#PHONE    |[\"MICROSOFT.PERSONAL.US.PHONE_NUMBER\"]                                                                                                                                                                                                                                                   |\n",
      "|mssql://bondsql.database.windows.net/CustomerDB/dbo/CustomerFlights111#STATE    |[\"MICROSOFT.GOVERNMENT.US.STATE\"]                                                                                                                                                                                                                                                        |\n",
      "|mssql://bondsql.database.windows.net/CustomerDB/dbo/CustomerFlights111#ZIPCODE  |[\"MICROSOFT.GOVERNMENT.US.ZIP_CODE\"]                                                                                                                                                                                                                                                     |\n",
      "+--------------------------------------------------------------------------------+-----------------------------------------------------------------------------------------------------------------------------------------------------------------------------------------------------------------------------------------------------------------------------------------+\n",
      "only showing top 20 rows\n",
      "\n"
     ]
    },
    {
     "data": {
      "application/vnd.livy.statement-meta+json": {
       "execution_finish_time": "2025-08-14T20:21:46.2308647Z",
       "execution_start_time": "2025-08-14T20:21:41.8061932Z",
       "livy_statement_state": "available",
       "normalized_state": "finished",
       "parent_msg_id": "faa7ed64-a981-4d1c-b960-83cd3fa0b546",
       "queued_time": "2025-08-14T20:21:41.8049866Z",
       "session_id": "6",
       "session_start_time": null,
       "spark_jobs": {
        "jobs": [
         {
          "completionTime": "2025-08-14T20:21:45.004GMT",
          "dataRead": 34471,
          "dataWritten": 0,
          "description": "Job group for statement 10:\n# Filters out rows without classifications, Gets the latest scan results for each asset path. Returns columns: TimeGenerated, AssetPath, Classification\ndf_latest = df.filter(\n                (col(\"Classification\").isNotNull()) & \n                (length(col(\"Classification\")) > 2) &\n                (col(\"TimeGenerated\") >= expr(\"current_timestamp() - interval 1440 hours\")) # updated this to desired period, e.g., 24 hours\n              )               .withColumn(\"row_num\", row_number().over(window_spec))               .filter(col(\"row_num\") == 1)               .select(\"AssetPath\", \"Classification\")\n\n\ndf_latest.show(20, False)",
          "displayName": "showString at NativeMethodAccessorImpl.java:0",
          "jobGroup": "10",
          "jobId": 12,
          "jobTags": [],
          "killedTasksSummary": {},
          "name": "showString at NativeMethodAccessorImpl.java:0",
          "numActiveStages": 0,
          "numActiveTasks": 0,
          "numCompletedIndices": 1,
          "numCompletedStages": 1,
          "numCompletedTasks": 1,
          "numFailedStages": 0,
          "numFailedTasks": 0,
          "numKilledTasks": 0,
          "numSkippedStages": 1,
          "numSkippedTasks": 2,
          "numTasks": 3,
          "rowCount": 300,
          "stageIds": [
           20,
           21
          ],
          "status": "SUCCEEDED",
          "submissionTime": "2025-08-14T20:21:44.659GMT",
          "usageDescription": ""
         },
         {
          "completionTime": "2025-08-14T20:21:44.424GMT",
          "dataRead": 0,
          "dataWritten": 34471,
          "description": "Job group for statement 10:\n# Filters out rows without classifications, Gets the latest scan results for each asset path. Returns columns: TimeGenerated, AssetPath, Classification\ndf_latest = df.filter(\n                (col(\"Classification\").isNotNull()) & \n                (length(col(\"Classification\")) > 2) &\n                (col(\"TimeGenerated\") >= expr(\"current_timestamp() - interval 1440 hours\")) # updated this to desired period, e.g., 24 hours\n              )               .withColumn(\"row_num\", row_number().over(window_spec))               .filter(col(\"row_num\") == 1)               .select(\"AssetPath\", \"Classification\")\n\n\ndf_latest.show(20, False)",
          "displayName": "showString at NativeMethodAccessorImpl.java:0",
          "jobGroup": "10",
          "jobId": 11,
          "jobTags": [],
          "killedTasksSummary": {},
          "name": "showString at NativeMethodAccessorImpl.java:0",
          "numActiveStages": 0,
          "numActiveTasks": 0,
          "numCompletedIndices": 2,
          "numCompletedStages": 1,
          "numCompletedTasks": 2,
          "numFailedStages": 0,
          "numFailedTasks": 0,
          "numKilledTasks": 0,
          "numSkippedStages": 0,
          "numSkippedTasks": 0,
          "numTasks": 2,
          "rowCount": 904,
          "stageIds": [
           19
          ],
          "status": "SUCCEEDED",
          "submissionTime": "2025-08-14T20:21:44.052GMT",
          "usageDescription": ""
         },
         {
          "completionTime": "2025-08-14T20:21:43.589GMT",
          "dataRead": 1913,
          "dataWritten": 0,
          "description": "Delta: Job group for statement 10:\n# Filters out rows without classifications, Gets the latest scan results for each asset path. Returns columns: TimeGenerated, AssetPath, Classification\ndf_latest = df.filter(\n                (col(\"Classification\").isNotNull()) & \n                (length(col(\"Classification\")) > 2) &\n                (col(\"TimeGenerated\") >= expr(\"current_timestamp() - interval 1440 hours\")) # updated this to desired period, e.g., 24 hours\n              )               .withColumn(\"row_num\", row_number().over(window_spec))               .filter(col(\"row_num\") == 1)               .select(\"AssetPath\", \"Classification\")\n\n\ndf_latest.show(20, False): Filtering files for query",
          "displayName": "$anonfun$recordDeltaOperationInternal$1 at SynapseLoggingShim.scala:111",
          "jobGroup": "10",
          "jobId": 10,
          "jobTags": [],
          "killedTasksSummary": {},
          "name": "$anonfun$recordDeltaOperationInternal$1 at SynapseLoggingShim.scala:111",
          "numActiveStages": 0,
          "numActiveTasks": 0,
          "numCompletedIndices": 50,
          "numCompletedStages": 1,
          "numCompletedTasks": 50,
          "numFailedStages": 0,
          "numFailedTasks": 0,
          "numKilledTasks": 0,
          "numSkippedStages": 1,
          "numSkippedTasks": 3,
          "numTasks": 53,
          "rowCount": 2,
          "stageIds": [
           17,
           18
          ],
          "status": "SUCCEEDED",
          "submissionTime": "2025-08-14T20:21:42.742GMT",
          "usageDescription": ""
         }
        ],
        "limit": 20,
        "numbers": {
         "FAILED": 0,
         "RUNNING": 0,
         "SUCCEEDED": 3,
         "UNKNOWN": 0
        },
        "rule": "ALL_DESC"
       },
       "spark_pool": "MSGSmall",
       "state": "finished",
       "statement_id": 10,
       "statement_ids": [
        10
       ]
      },
      "text/plain": [
       "StatementMeta(MSGSmall, 6, 10, Finished, Available, Finished)"
      ]
     },
     "metadata": {},
     "output_type": "display_data"
    },
    {
     "name": "stdout",
     "output_type": "stream",
     "text": [
      "+--------------------------------------------------------------------------------+-----------------------------------------------------------------------------------------------------------------------------------------------------------------------------------------------------------------------------------------------------------------------------------------+\n",
      "|AssetPath                                                                       |Classification                                                                                                                                                                                                                                                                           |\n",
      "+--------------------------------------------------------------------------------+-----------------------------------------------------------------------------------------------------------------------------------------------------------------------------------------------------------------------------------------------------------------------------------------+\n",
      "|mssql://bondsql.database.windows.net/CustomerDB/dbo/CustomerFlights             |[\"MICROSOFT.GOVERNMENT.CITY_NAME\",\"MICROSOFT.GOVERNMENT.US.STATE\",\"MICROSOFT.GOVERNMENT.US.ZIP_CODE\",\"MICROSOFT.PERSONAL.EMAIL\",\"MICROSOFT.PERSONAL.GENDER\",\"MICROSOFT.PERSONAL.NAME\",\"MICROSOFT.PERSONAL.PHYSICALADDRESS\",\"MICROSOFT.PERSONAL.US.PHONE_NUMBER\",\"Taiwan Passport Number\"]|\n",
      "|mssql://bondsql.database.windows.net/CustomerDB/dbo/CustomerFlights#ADDRESS     |[\"MICROSOFT.PERSONAL.PHYSICALADDRESS\"]                                                                                                                                                                                                                                                   |\n",
      "|mssql://bondsql.database.windows.net/CustomerDB/dbo/CustomerFlights#CITY        |[\"MICROSOFT.GOVERNMENT.CITY_NAME\"]                                                                                                                                                                                                                                                       |\n",
      "|mssql://bondsql.database.windows.net/CustomerDB/dbo/CustomerFlights#EMAIL       |[\"MICROSOFT.PERSONAL.EMAIL\"]                                                                                                                                                                                                                                                             |\n",
      "|mssql://bondsql.database.windows.net/CustomerDB/dbo/CustomerFlights#FIRSTNAME   |[\"MICROSOFT.PERSONAL.NAME\"]                                                                                                                                                                                                                                                              |\n",
      "|mssql://bondsql.database.windows.net/CustomerDB/dbo/CustomerFlights#GENDER      |[\"MICROSOFT.PERSONAL.GENDER\"]                                                                                                                                                                                                                                                            |\n",
      "|mssql://bondsql.database.windows.net/CustomerDB/dbo/CustomerFlights#PASSPORT    |[\"Taiwan Passport Number\"]                                                                                                                                                                                                                                                               |\n",
      "|mssql://bondsql.database.windows.net/CustomerDB/dbo/CustomerFlights#PHONE       |[\"MICROSOFT.PERSONAL.US.PHONE_NUMBER\"]                                                                                                                                                                                                                                                   |\n",
      "|mssql://bondsql.database.windows.net/CustomerDB/dbo/CustomerFlights#STATE       |[\"MICROSOFT.GOVERNMENT.US.STATE\"]                                                                                                                                                                                                                                                        |\n",
      "|mssql://bondsql.database.windows.net/CustomerDB/dbo/CustomerFlights#ZIPCODE     |[\"MICROSOFT.GOVERNMENT.US.ZIP_CODE\"]                                                                                                                                                                                                                                                     |\n",
      "|mssql://bondsql.database.windows.net/CustomerDB/dbo/CustomerFlights111          |[\"MICROSOFT.GOVERNMENT.CITY_NAME\",\"MICROSOFT.GOVERNMENT.US.STATE\",\"MICROSOFT.GOVERNMENT.US.ZIP_CODE\",\"MICROSOFT.PERSONAL.EMAIL\",\"MICROSOFT.PERSONAL.GENDER\",\"MICROSOFT.PERSONAL.NAME\",\"MICROSOFT.PERSONAL.PHYSICALADDRESS\",\"MICROSOFT.PERSONAL.US.PHONE_NUMBER\",\"Taiwan Passport Number\"]|\n",
      "|mssql://bondsql.database.windows.net/CustomerDB/dbo/CustomerFlights111#ADDRESS  |[\"MICROSOFT.PERSONAL.PHYSICALADDRESS\"]                                                                                                                                                                                                                                                   |\n",
      "|mssql://bondsql.database.windows.net/CustomerDB/dbo/CustomerFlights111#CITY     |[\"MICROSOFT.GOVERNMENT.CITY_NAME\"]                                                                                                                                                                                                                                                       |\n",
      "|mssql://bondsql.database.windows.net/CustomerDB/dbo/CustomerFlights111#EMAIL    |[\"MICROSOFT.PERSONAL.EMAIL\"]                                                                                                                                                                                                                                                             |\n",
      "|mssql://bondsql.database.windows.net/CustomerDB/dbo/CustomerFlights111#FIRSTNAME|[\"MICROSOFT.PERSONAL.NAME\"]                                                                                                                                                                                                                                                              |\n",
      "|mssql://bondsql.database.windows.net/CustomerDB/dbo/CustomerFlights111#GENDER   |[\"MICROSOFT.PERSONAL.GENDER\"]                                                                                                                                                                                                                                                            |\n",
      "|mssql://bondsql.database.windows.net/CustomerDB/dbo/CustomerFlights111#PASSPORT |[\"Taiwan Passport Number\"]                                                                                                                                                                                                                                                               |\n",
      "|mssql://bondsql.database.windows.net/CustomerDB/dbo/CustomerFlights111#PHONE    |[\"MICROSOFT.PERSONAL.US.PHONE_NUMBER\"]                                                                                                                                                                                                                                                   |\n",
      "|mssql://bondsql.database.windows.net/CustomerDB/dbo/CustomerFlights111#STATE    |[\"MICROSOFT.GOVERNMENT.US.STATE\"]                                                                                                                                                                                                                                                        |\n",
      "|mssql://bondsql.database.windows.net/CustomerDB/dbo/CustomerFlights111#ZIPCODE  |[\"MICROSOFT.GOVERNMENT.US.ZIP_CODE\"]                                                                                                                                                                                                                                                     |\n",
      "+--------------------------------------------------------------------------------+-----------------------------------------------------------------------------------------------------------------------------------------------------------------------------------------------------------------------------------------------------------------------------------------+\n",
      "only showing top 20 rows\n",
      "\n"
     ]
    }
   ],
   "source": [
    "# Filters out rows without classifications, Gets the latest scan results for each asset path. Returns columns: TimeGenerated, AssetPath, Classification\n",
    "df_latest = df.filter(\n",
    "                (col(\"Classification\").isNotNull()) & \n",
    "                (length(col(\"Classification\")) > 2) &\n",
    "                (col(\"TimeGenerated\") >= expr(\"current_timestamp() - interval 1440 hours\")) # updated this to desired period, e.g., 24 hours\n",
    "              ) \\\n",
    "              .withColumn(\"row_num\", row_number().over(window_spec)) \\\n",
    "              .filter(col(\"row_num\") == 1) \\\n",
    "              .select(\"AssetPath\", \"Classification\")\n",
    "\n",
    "\n",
    "df_latest.show(20, False)"
   ]
  },
  {
   "cell_type": "code",
   "execution_count": null,
   "id": "64556272",
   "metadata": {},
   "outputs": [
    {
     "data": {
      "application/vnd.livy.statement-meta+json": {
       "execution_finish_time": "2025-08-12T21:36:08.1462714Z",
       "execution_start_time": "2025-08-12T21:36:07.9343156Z",
       "livy_statement_state": "available",
       "normalized_state": "finished",
       "parent_msg_id": "627bd70d-36df-46ef-9bd5-814a675a8902",
       "queued_time": "2025-08-12T21:36:07.9332439Z",
       "session_id": "1",
       "session_start_time": null,
       "spark_jobs": {
        "jobs": [],
        "limit": 20,
        "numbers": {
         "FAILED": 0,
         "RUNNING": 0,
         "SUCCEEDED": 0,
         "UNKNOWN": 0
        },
        "rule": "ALL_DESC"
       },
       "spark_pool": "MSGSmall",
       "state": "finished",
       "statement_id": 12,
       "statement_ids": [
        12
       ]
      },
      "text/plain": [
       "StatementMeta(MSGSmall, 1, 12, Finished, Available, Finished)"
      ]
     },
     "metadata": {},
     "output_type": "display_data"
    },
    {
     "data": {
      "application/vnd.livy.statement-meta+json": {
       "execution_finish_time": "2025-08-12T22:14:23.8060906Z",
       "execution_start_time": "2025-08-12T22:14:23.6058563Z",
       "livy_statement_state": "available",
       "normalized_state": "finished",
       "parent_msg_id": "303d9133-ee3a-4656-8f39-da00869f66fa",
       "queued_time": "2025-08-12T22:14:23.6046365Z",
       "session_id": "2",
       "session_start_time": null,
       "spark_jobs": {
        "jobs": [],
        "limit": 20,
        "numbers": {
         "FAILED": 0,
         "RUNNING": 0,
         "SUCCEEDED": 0,
         "UNKNOWN": 0
        },
        "rule": "ALL_DESC"
       },
       "spark_pool": "MSGSmall",
       "state": "finished",
       "statement_id": 7,
       "statement_ids": [
        7
       ]
      },
      "text/plain": [
       "StatementMeta(MSGSmall, 2, 7, Finished, Available, Finished)"
      ]
     },
     "metadata": {},
     "output_type": "display_data"
    },
    {
     "data": {
      "application/vnd.livy.statement-meta+json": {
       "execution_finish_time": "2025-08-14T20:21:46.6252573Z",
       "execution_start_time": "2025-08-14T20:21:46.4011739Z",
       "livy_statement_state": "available",
       "normalized_state": "finished",
       "parent_msg_id": "259b48b5-4c9b-46ce-acba-677d07660c59",
       "queued_time": "2025-08-14T20:21:46.3999101Z",
       "session_id": "6",
       "session_start_time": null,
       "spark_jobs": {
        "jobs": [],
        "limit": 20,
        "numbers": {
         "FAILED": 0,
         "RUNNING": 0,
         "SUCCEEDED": 0,
         "UNKNOWN": 0
        },
        "rule": "ALL_DESC"
       },
       "spark_pool": "MSGSmall",
       "state": "finished",
       "statement_id": 11,
       "statement_ids": [
        11
       ]
      },
      "text/plain": [
       "StatementMeta(MSGSmall, 6, 11, Finished, Available, Finished)"
      ]
     },
     "metadata": {},
     "output_type": "display_data"
    }
   ],
   "source": [
    "def table_exists(data_provider, table_name, workspace=None):\n",
    "    \"\"\"\n",
    "    Check if a table exists by attempting to read it and catching exceptions.\n",
    "    \"\"\"\n",
    "    try:\n",
    "        # Try to read just one row to minimize overhead\n",
    "        if workspace:\n",
    "            df_test = data_provider.read_table(table_name, workspace)\n",
    "        else:\n",
    "            df_test = data_provider.read_table(table_name)\n",
    "        \n",
    "        # Try to get the schema or count to ensure the table is accessible\n",
    "        df_test.limit(1).collect()\n",
    "        return True\n",
    "    except Exception as e:\n",
    "        # Log the error if needed\n",
    "        print(f\"Table '{table_name}' does not exist or is not accessible: {str(e)}\")\n",
    "        return False\n",
    "\n",
    "\n",
    "    "
   ]
  },
  {
   "cell_type": "code",
   "execution_count": 20,
   "id": "fd50a460",
   "metadata": {},
   "outputs": [
    {
     "data": {
      "application/vnd.livy.statement-meta+json": {
       "execution_finish_time": "2025-08-12T22:18:54.9765077Z",
       "execution_start_time": "2025-08-12T22:18:43.7538755Z",
       "livy_statement_state": "available",
       "normalized_state": "finished",
       "parent_msg_id": "46d3bf16-04a6-41b4-89f1-d3683e85b3c8",
       "queued_time": "2025-08-12T22:18:43.7525361Z",
       "session_id": "2",
       "session_start_time": null,
       "spark_jobs": {
        "jobs": [],
        "limit": 20,
        "numbers": {
         "FAILED": 0,
         "RUNNING": 0,
         "SUCCEEDED": 0,
         "UNKNOWN": 0
        },
        "rule": "ALL_DESC"
       },
       "spark_pool": "MSGSmall",
       "state": "finished",
       "statement_id": 8,
       "statement_ids": [
        8
       ]
      },
      "text/plain": [
       "StatementMeta(MSGSmall, 2, 8, Finished, Available, Finished)"
      ]
     },
     "metadata": {},
     "output_type": "display_data"
    },
    {
     "name": "stdout",
     "output_type": "stream",
     "text": [
      "{\"level\": \"INFO\", \"run_id\": \"6a249570-f8ac-4488-bc9e-686aa695f636\", \"message\": \"Loading table: PIIAssetPathTable_SPRK\"}\n",
      "{\"level\": \"ERROR\", \"run_id\": \"6a249570-f8ac-4488-bc9e-686aa695f636\", \"message\": \"Error loading table PIIAssetPathTable_SPRK: Received Unauthorized status code with error {\\\"error\\\":{\\\"code\\\":\\\"Table_InsufficientPermissions\\\",\\\"message\\\":\\\"User does not have sufficient permissions to access table \\\\u0027PIIAssetPathTable_SPRK\\\\u0027 (permission: \\\\u0027r\\\\u0027).\\\",\\\"details\\\":[]}}\"}\n",
      "Table 'PIIAssetPathTable_SPRK' does not exist or is not accessible: Error loading table PIIAssetPathTable_SPRK: Received Unauthorized status code with error {\"error\":{\"code\":\"Table_InsufficientPermissions\",\"message\":\"User does not have sufficient permissions to access table \\u0027PIIAssetPathTable_SPRK\\u0027 (permission: \\u0027r\\u0027).\",\"details\":[]}}\n",
      "Baseline table 'PIIAssetPathTable_SPRK' does not exist - creating new baseline\n",
      "{\"level\": \"INFO\", \"run_id\": \"6a249570-f8ac-4488-bc9e-686aa695f636\", \"message\": \"Saving DataFrame as table: PIIAssetPathTable_SPRK\"}\n"
     ]
    },
    {
     "ename": "TableOperationException",
     "evalue": "Received Unauthorized status code with error {\"error\":{\"code\":\"Table_InsufficientPermissions\",\"message\":\"User does not have sufficient permissions to access table \\u0027PIIAssetPathTable_SPRK\\u0027 (permission: \\u0027r\\u0027).\",\"details\":[]}}",
     "output_type": "error",
     "traceback": [
      "\u001b[0;31m---------------------------------------------------------------------------\u001b[0m",
      "\u001b[0;31mPy4JJavaError\u001b[0m                             Traceback (most recent call last)",
      "File \u001b[0;32m~/cluster-env/clonedenv/lib/python3.10/site-packages/sentinel_lake/providers.py:759\u001b[0m, in \u001b[0;36mDataProviderImpl._send_table_operation_request\u001b[0;34m(self, table_name, operation, database_name, request_body)\u001b[0m\n\u001b[1;32m    756\u001b[0m \u001b[38;5;28mself\u001b[39m\u001b[38;5;241m.\u001b[39m_log_debug(\n\u001b[1;32m    757\u001b[0m     \u001b[38;5;124mf\u001b[39m\u001b[38;5;124m\"\u001b[39m\u001b[38;5;124mRequest details - Account: \u001b[39m\u001b[38;5;132;01m{\u001b[39;00m\u001b[38;5;28mself\u001b[39m\u001b[38;5;241m.\u001b[39mservice_config\u001b[38;5;241m.\u001b[39maccount_id\u001b[38;5;132;01m}\u001b[39;00m\u001b[38;5;124m, Pod: \u001b[39m\u001b[38;5;132;01m{\u001b[39;00m\u001b[38;5;28mself\u001b[39m\u001b[38;5;241m.\u001b[39mservice_config\u001b[38;5;241m.\u001b[39mpod_id\u001b[38;5;132;01m}\u001b[39;00m\u001b[38;5;124m\"\u001b[39m)\n\u001b[0;32m--> 759\u001b[0m result_json \u001b[38;5;241m=\u001b[39m \u001b[38;5;28;43mself\u001b[39;49m\u001b[38;5;241;43m.\u001b[39;49m\u001b[43mproxy_client\u001b[49m\u001b[38;5;241;43m.\u001b[39;49m\u001b[43msendTableOperationRequest\u001b[49m\u001b[43m(\u001b[49m\n\u001b[1;32m    760\u001b[0m \u001b[43m    \u001b[49m\u001b[38;5;28;43mself\u001b[39;49m\u001b[38;5;241;43m.\u001b[39;49m\u001b[43mservice_config\u001b[49m\u001b[38;5;241;43m.\u001b[39;49m\u001b[43mtoken_service_endpoint\u001b[49m\u001b[43m,\u001b[49m\n\u001b[1;32m    761\u001b[0m \u001b[43m    \u001b[49m\u001b[38;5;28;43mself\u001b[39;49m\u001b[38;5;241;43m.\u001b[39;49m\u001b[43mservice_config\u001b[49m\u001b[38;5;241;43m.\u001b[39;49m\u001b[43msmi_proxy\u001b[49m\u001b[43m,\u001b[49m\n\u001b[1;32m    762\u001b[0m \u001b[43m    \u001b[49m\u001b[38;5;28;43mself\u001b[39;49m\u001b[38;5;241;43m.\u001b[39;49m\u001b[43mservice_config\u001b[49m\u001b[38;5;241;43m.\u001b[39;49m\u001b[43mcluster_id\u001b[49m\u001b[43m,\u001b[49m\n\u001b[1;32m    763\u001b[0m \u001b[43m    \u001b[49m\u001b[43moperation\u001b[49m\u001b[38;5;241;43m.\u001b[39;49m\u001b[43mvalue\u001b[49m\u001b[43m,\u001b[49m\n\u001b[1;32m    764\u001b[0m \u001b[43m    \u001b[49m\u001b[43mtable_op_request\u001b[49m\n\u001b[1;32m    765\u001b[0m \u001b[43m\u001b[49m\u001b[43m)\u001b[49m\n\u001b[1;32m    767\u001b[0m \u001b[38;5;28mself\u001b[39m\u001b[38;5;241m.\u001b[39m_log_debug(\u001b[38;5;124m\"\u001b[39m\u001b[38;5;124mSuccessfully received response from service\u001b[39m\u001b[38;5;124m\"\u001b[39m)\n",
      "File \u001b[0;32m~/cluster-env/clonedenv/lib/python3.10/site-packages/py4j/java_gateway.py:1322\u001b[0m, in \u001b[0;36mJavaMember.__call__\u001b[0;34m(self, *args)\u001b[0m\n\u001b[1;32m   1321\u001b[0m answer \u001b[38;5;241m=\u001b[39m \u001b[38;5;28mself\u001b[39m\u001b[38;5;241m.\u001b[39mgateway_client\u001b[38;5;241m.\u001b[39msend_command(command)\n\u001b[0;32m-> 1322\u001b[0m return_value \u001b[38;5;241m=\u001b[39m \u001b[43mget_return_value\u001b[49m\u001b[43m(\u001b[49m\n\u001b[1;32m   1323\u001b[0m \u001b[43m    \u001b[49m\u001b[43manswer\u001b[49m\u001b[43m,\u001b[49m\u001b[43m \u001b[49m\u001b[38;5;28;43mself\u001b[39;49m\u001b[38;5;241;43m.\u001b[39;49m\u001b[43mgateway_client\u001b[49m\u001b[43m,\u001b[49m\u001b[43m \u001b[49m\u001b[38;5;28;43mself\u001b[39;49m\u001b[38;5;241;43m.\u001b[39;49m\u001b[43mtarget_id\u001b[49m\u001b[43m,\u001b[49m\u001b[43m \u001b[49m\u001b[38;5;28;43mself\u001b[39;49m\u001b[38;5;241;43m.\u001b[39;49m\u001b[43mname\u001b[49m\u001b[43m)\u001b[49m\n\u001b[1;32m   1325\u001b[0m \u001b[38;5;28;01mfor\u001b[39;00m temp_arg \u001b[38;5;129;01min\u001b[39;00m temp_args:\n",
      "File \u001b[0;32m/opt/spark/python/lib/pyspark.zip/pyspark/errors/exceptions/captured.py:169\u001b[0m, in \u001b[0;36mcapture_sql_exception.<locals>.deco\u001b[0;34m(*a, **kw)\u001b[0m\n\u001b[1;32m    168\u001b[0m \u001b[38;5;28;01mtry\u001b[39;00m:\n\u001b[0;32m--> 169\u001b[0m     \u001b[38;5;28;01mreturn\u001b[39;00m \u001b[43mf\u001b[49m\u001b[43m(\u001b[49m\u001b[38;5;241;43m*\u001b[39;49m\u001b[43ma\u001b[49m\u001b[43m,\u001b[49m\u001b[43m \u001b[49m\u001b[38;5;241;43m*\u001b[39;49m\u001b[38;5;241;43m*\u001b[39;49m\u001b[43mkw\u001b[49m\u001b[43m)\u001b[49m\n\u001b[1;32m    170\u001b[0m \u001b[38;5;28;01mexcept\u001b[39;00m Py4JJavaError \u001b[38;5;28;01mas\u001b[39;00m e:\n",
      "File \u001b[0;32m~/cluster-env/clonedenv/lib/python3.10/site-packages/py4j/protocol.py:326\u001b[0m, in \u001b[0;36mget_return_value\u001b[0;34m(answer, gateway_client, target_id, name)\u001b[0m\n\u001b[1;32m    325\u001b[0m \u001b[38;5;28;01mif\u001b[39;00m answer[\u001b[38;5;241m1\u001b[39m] \u001b[38;5;241m==\u001b[39m REFERENCE_TYPE:\n\u001b[0;32m--> 326\u001b[0m     \u001b[38;5;28;01mraise\u001b[39;00m Py4JJavaError(\n\u001b[1;32m    327\u001b[0m         \u001b[38;5;124m\"\u001b[39m\u001b[38;5;124mAn error occurred while calling \u001b[39m\u001b[38;5;132;01m{0}\u001b[39;00m\u001b[38;5;132;01m{1}\u001b[39;00m\u001b[38;5;132;01m{2}\u001b[39;00m\u001b[38;5;124m.\u001b[39m\u001b[38;5;130;01m\\n\u001b[39;00m\u001b[38;5;124m\"\u001b[39m\u001b[38;5;241m.\u001b[39m\n\u001b[1;32m    328\u001b[0m         \u001b[38;5;28mformat\u001b[39m(target_id, \u001b[38;5;124m\"\u001b[39m\u001b[38;5;124m.\u001b[39m\u001b[38;5;124m\"\u001b[39m, name), value)\n\u001b[1;32m    329\u001b[0m \u001b[38;5;28;01melse\u001b[39;00m:\n",
      "\u001b[0;31mPy4JJavaError\u001b[0m: An error occurred while calling o5984.sendTableOperationRequest.\n: java.io.IOException: Received Unauthorized status code with error {\"error\":{\"code\":\"Table_InsufficientPermissions\",\"message\":\"User does not have sufficient permissions to access table \\u0027PIIAssetPathTable_SPRK\\u0027 (permission: \\u0027r\\u0027).\",\"details\":[]}}\n\tat com.microsoft.securityplatform.SynapseProxyClient.sendProxyPostRequest(SynapseProxyClient.java:401)\n\tat com.microsoft.securityplatform.SynapseProxyClient.sendTableOperationRequestInternal(SynapseProxyClient.java:223)\n\tat com.microsoft.securityplatform.SynapseProxyClient.sendTableOperationRequest(SynapseProxyClient.java:203)\n\tat java.base/jdk.internal.reflect.NativeMethodAccessorImpl.invoke0(Native Method)\n\tat java.base/jdk.internal.reflect.NativeMethodAccessorImpl.invoke(NativeMethodAccessorImpl.java:62)\n\tat java.base/jdk.internal.reflect.DelegatingMethodAccessorImpl.invoke(DelegatingMethodAccessorImpl.java:43)\n\tat java.base/java.lang.reflect.Method.invoke(Method.java:566)\n\tat py4j.reflection.MethodInvoker.invoke(MethodInvoker.java:244)\n\tat py4j.reflection.ReflectionEngine.invoke(ReflectionEngine.java:374)\n\tat py4j.Gateway.invoke(Gateway.java:282)\n\tat py4j.commands.AbstractCommand.invokeMethod(AbstractCommand.java:132)\n\tat py4j.commands.CallCommand.execute(CallCommand.java:79)\n\tat py4j.GatewayConnection.run(GatewayConnection.java:238)\n\tat java.base/java.lang.Thread.run(Thread.java:829)\n",
      "\nDuring handling of the above exception, another exception occurred:\n",
      "\u001b[0;31mTableOperationException\u001b[0m                   Traceback (most recent call last)",
      "Cell \u001b[0;32mIn[17], line 56\u001b[0m\n\u001b[1;32m     53\u001b[0m \u001b[38;5;28mprint\u001b[39m(\u001b[38;5;124mf\u001b[39m\u001b[38;5;124m\"\u001b[39m\u001b[38;5;124mBaseline table \u001b[39m\u001b[38;5;124m'\u001b[39m\u001b[38;5;132;01m{\u001b[39;00mbaseline_table_name\u001b[38;5;132;01m}\u001b[39;00m\u001b[38;5;124m'\u001b[39m\u001b[38;5;124m does not exist - creating new baseline\u001b[39m\u001b[38;5;124m\"\u001b[39m)\n\u001b[1;32m     55\u001b[0m \u001b[38;5;66;03m# Create new baseline table with all current assets\u001b[39;00m\n\u001b[0;32m---> 56\u001b[0m \u001b[43mdata_provider\u001b[49m\u001b[38;5;241;43m.\u001b[39;49m\u001b[43msave_as_table\u001b[49m\u001b[43m(\u001b[49m\u001b[43m        \u001b[49m\n\u001b[1;32m     57\u001b[0m \u001b[43m    \u001b[49m\u001b[43mdf_latest\u001b[49m\u001b[43m,\u001b[49m\n\u001b[1;32m     58\u001b[0m \u001b[43m    \u001b[49m\u001b[43mbaseline_table_name\u001b[49m\u001b[43m,\u001b[49m\n\u001b[1;32m     59\u001b[0m \u001b[43m    \u001b[49m\u001b[43mwrite_options\u001b[49m\u001b[38;5;241;43m=\u001b[39;49m\u001b[43m{\u001b[49m\u001b[38;5;124;43m'\u001b[39;49m\u001b[38;5;124;43mmode\u001b[39;49m\u001b[38;5;124;43m'\u001b[39;49m\u001b[43m:\u001b[49m\u001b[43m \u001b[49m\u001b[38;5;124;43m'\u001b[39;49m\u001b[38;5;124;43moverwrite\u001b[39;49m\u001b[38;5;124;43m'\u001b[39;49m\u001b[43m}\u001b[49m\n\u001b[1;32m     60\u001b[0m \u001b[43m\u001b[49m\u001b[43m)\u001b[49m\n\u001b[1;32m     61\u001b[0m \u001b[38;5;28mprint\u001b[39m(\u001b[38;5;124mf\u001b[39m\u001b[38;5;124m\"\u001b[39m\u001b[38;5;124mCreated baseline table \u001b[39m\u001b[38;5;124m'\u001b[39m\u001b[38;5;132;01m{\u001b[39;00mbaseline_table_name\u001b[38;5;132;01m}\u001b[39;00m\u001b[38;5;124m'\u001b[39m\u001b[38;5;124m with \u001b[39m\u001b[38;5;132;01m{\u001b[39;00mdf_latest\u001b[38;5;241m.\u001b[39mcount()\u001b[38;5;132;01m}\u001b[39;00m\u001b[38;5;124m assets\u001b[39m\u001b[38;5;124m\"\u001b[39m)\n\u001b[1;32m     63\u001b[0m \u001b[38;5;66;03m# All assets are \"new\" since there was no baseline\u001b[39;00m\n",
      "File \u001b[0;32m~/cluster-env/clonedenv/lib/python3.10/site-packages/sentinel_lake/providers.py:106\u001b[0m, in \u001b[0;36mdelegate_to_impl.<locals>.wrapper\u001b[0;34m(self, *args, **kwargs)\u001b[0m\n\u001b[1;32m    104\u001b[0m \u001b[38;5;28;01mdef\u001b[39;00m \u001b[38;5;21mwrapper\u001b[39m(\u001b[38;5;28mself\u001b[39m, \u001b[38;5;241m*\u001b[39margs, \u001b[38;5;241m*\u001b[39m\u001b[38;5;241m*\u001b[39mkwargs):\n\u001b[1;32m    105\u001b[0m     impl_method \u001b[38;5;241m=\u001b[39m \u001b[38;5;28mgetattr\u001b[39m(\u001b[38;5;28mself\u001b[39m\u001b[38;5;241m.\u001b[39m_impl, func\u001b[38;5;241m.\u001b[39m\u001b[38;5;18m__name__\u001b[39m)\n\u001b[0;32m--> 106\u001b[0m     \u001b[38;5;28;01mreturn\u001b[39;00m \u001b[43mimpl_method\u001b[49m\u001b[43m(\u001b[49m\u001b[38;5;241;43m*\u001b[39;49m\u001b[43margs\u001b[49m\u001b[43m,\u001b[49m\u001b[43m \u001b[49m\u001b[38;5;241;43m*\u001b[39;49m\u001b[38;5;241;43m*\u001b[39;49m\u001b[43mkwargs\u001b[49m\u001b[43m)\u001b[49m\n",
      "File \u001b[0;32m~/cluster-env/clonedenv/lib/python3.10/site-packages/sentinel_lake/providers.py:1094\u001b[0m, in \u001b[0;36mDataProviderImpl.save_as_table\u001b[0;34m(self, df, table_name, database_name, database_id, write_options)\u001b[0m\n\u001b[1;32m   1092\u001b[0m     \u001b[38;5;28mself\u001b[39m\u001b[38;5;241m.\u001b[39m_log_info(\u001b[38;5;124mf\u001b[39m\u001b[38;5;124m\"\u001b[39m\u001b[38;5;124mSuccessfully saved DataFrame to table \u001b[39m\u001b[38;5;132;01m{\u001b[39;00mtable_name\u001b[38;5;132;01m}\u001b[39;00m\u001b[38;5;124m with options: \u001b[39m\u001b[38;5;132;01m{\u001b[39;00mwrite_options\u001b[38;5;132;01m}\u001b[39;00m\u001b[38;5;124m\"\u001b[39m)\n\u001b[1;32m   1093\u001b[0m \u001b[38;5;28;01mexcept\u001b[39;00m TableServiceException \u001b[38;5;28;01mas\u001b[39;00m e:\n\u001b[0;32m-> 1094\u001b[0m     \u001b[38;5;28;01mraise\u001b[39;00m e\n\u001b[1;32m   1095\u001b[0m \u001b[38;5;28;01mexcept\u001b[39;00m \u001b[38;5;167;01mException\u001b[39;00m \u001b[38;5;28;01mas\u001b[39;00m e:\n\u001b[1;32m   1096\u001b[0m     \u001b[38;5;28mself\u001b[39m\u001b[38;5;241m.\u001b[39m_log_error(\u001b[38;5;124mf\u001b[39m\u001b[38;5;124m\"\u001b[39m\u001b[38;5;124mError saving DataFrame to table \u001b[39m\u001b[38;5;132;01m{\u001b[39;00mtable_name\u001b[38;5;132;01m}\u001b[39;00m\u001b[38;5;124m: \u001b[39m\u001b[38;5;132;01m{\u001b[39;00m\u001b[38;5;28mstr\u001b[39m(e)\u001b[38;5;132;01m}\u001b[39;00m\u001b[38;5;124m\"\u001b[39m)\n",
      "File \u001b[0;32m~/cluster-env/clonedenv/lib/python3.10/site-packages/sentinel_lake/providers.py:1040\u001b[0m, in \u001b[0;36mDataProviderImpl.save_as_table\u001b[0;34m(self, df, table_name, database_name, database_id, write_options)\u001b[0m\n\u001b[1;32m   1038\u001b[0m table_exists \u001b[38;5;241m=\u001b[39m \u001b[38;5;28;01mTrue\u001b[39;00m\n\u001b[1;32m   1039\u001b[0m \u001b[38;5;28;01mtry\u001b[39;00m:\n\u001b[0;32m-> 1040\u001b[0m     existing_table \u001b[38;5;241m=\u001b[39m \u001b[38;5;28;43mself\u001b[39;49m\u001b[38;5;241;43m.\u001b[39;49m\u001b[43mget_table_details\u001b[49m\u001b[43m(\u001b[49m\u001b[43mtable_name\u001b[49m\u001b[43m,\u001b[49m\u001b[43m \u001b[49m\u001b[43mdatabase_name\u001b[49m\u001b[43m)\u001b[49m\n\u001b[1;32m   1041\u001b[0m \u001b[38;5;28;01mexcept\u001b[39;00m TableNotFoundException:\n\u001b[1;32m   1042\u001b[0m     table_exists \u001b[38;5;241m=\u001b[39m \u001b[38;5;28;01mFalse\u001b[39;00m\n",
      "File \u001b[0;32m~/cluster-env/clonedenv/lib/python3.10/site-packages/sentinel_lake/providers.py:421\u001b[0m, in \u001b[0;36mDataProviderImpl.get_table_details\u001b[0;34m(self, table_name, database_name)\u001b[0m\n\u001b[1;32m    419\u001b[0m table_key \u001b[38;5;241m=\u001b[39m \u001b[38;5;28mself\u001b[39m\u001b[38;5;241m.\u001b[39m_get_table_key(table_name, database_name)\n\u001b[1;32m    420\u001b[0m \u001b[38;5;28;01mif\u001b[39;00m table_key \u001b[38;5;129;01mnot\u001b[39;00m \u001b[38;5;129;01min\u001b[39;00m \u001b[38;5;28mself\u001b[39m\u001b[38;5;241m.\u001b[39mconfig\u001b[38;5;241m.\u001b[39mtables\u001b[38;5;241m.\u001b[39mkeys():\n\u001b[0;32m--> 421\u001b[0m     \u001b[38;5;28;43mself\u001b[39;49m\u001b[38;5;241;43m.\u001b[39;49m\u001b[43m_update_table_config\u001b[49m\u001b[43m(\u001b[49m\u001b[43mtable_name\u001b[49m\u001b[43m,\u001b[49m\u001b[43m \u001b[49m\u001b[43mdatabase_name\u001b[49m\u001b[43m)\u001b[49m\n\u001b[1;32m    423\u001b[0m \u001b[38;5;28;01mif\u001b[39;00m table_key \u001b[38;5;129;01mnot\u001b[39;00m \u001b[38;5;129;01min\u001b[39;00m \u001b[38;5;28mself\u001b[39m\u001b[38;5;241m.\u001b[39mconfig\u001b[38;5;241m.\u001b[39mtables\u001b[38;5;241m.\u001b[39mkeys():\n\u001b[1;32m    424\u001b[0m     \u001b[38;5;28;01mreturn\u001b[39;00m \u001b[38;5;28;01mNone\u001b[39;00m\n",
      "File \u001b[0;32m~/cluster-env/clonedenv/lib/python3.10/site-packages/sentinel_lake/providers.py:587\u001b[0m, in \u001b[0;36mDataProviderImpl._update_table_config\u001b[0;34m(self, table_name, database_name)\u001b[0m\n\u001b[1;32m    585\u001b[0m \u001b[38;5;28;01mdef\u001b[39;00m \u001b[38;5;21m_update_table_config\u001b[39m(\u001b[38;5;28mself\u001b[39m, table_name: \u001b[38;5;28mstr\u001b[39m, database_name: \u001b[38;5;28mstr\u001b[39m \u001b[38;5;241m=\u001b[39m \u001b[38;5;28;01mNone\u001b[39;00m):\n\u001b[1;32m    586\u001b[0m \u001b[38;5;250m    \u001b[39m\u001b[38;5;124;03m\"\"\"Update the table configuration.\"\"\"\u001b[39;00m\n\u001b[0;32m--> 587\u001b[0m     table \u001b[38;5;241m=\u001b[39m \u001b[38;5;28;43mself\u001b[39;49m\u001b[38;5;241;43m.\u001b[39;49m\u001b[43m_send_table_operation_request\u001b[49m\u001b[43m(\u001b[49m\u001b[43mtable_name\u001b[49m\u001b[43m,\u001b[49m\u001b[43m \u001b[49m\u001b[43mTableOperation\u001b[49m\u001b[38;5;241;43m.\u001b[39;49m\u001b[43mGET_LAKE_TABLE_DEF\u001b[49m\u001b[43m,\u001b[49m\u001b[43m \u001b[49m\u001b[43mdatabase_name\u001b[49m\u001b[43m)\u001b[49m\n\u001b[1;32m    589\u001b[0m     \u001b[38;5;28;01mif\u001b[39;00m \u001b[38;5;129;01mnot\u001b[39;00m \u001b[38;5;28mself\u001b[39m\u001b[38;5;241m.\u001b[39m_is_provisioned(table):\n\u001b[1;32m    590\u001b[0m         old_table_data \u001b[38;5;241m=\u001b[39m \u001b[38;5;28mself\u001b[39m\u001b[38;5;241m.\u001b[39m_send_table_operation_request(table_name, TableOperation\u001b[38;5;241m.\u001b[39mGET_LAKE_TABLE_DEF_V1, database_name)\n",
      "File \u001b[0;32m~/cluster-env/clonedenv/lib/python3.10/site-packages/sentinel_lake/providers.py:840\u001b[0m, in \u001b[0;36mDataProviderImpl._send_table_operation_request\u001b[0;34m(self, table_name, operation, database_name, request_body)\u001b[0m\n\u001b[1;32m    838\u001b[0m \u001b[38;5;28;01mexcept\u001b[39;00m Py4JJavaError \u001b[38;5;28;01mas\u001b[39;00m e:\n\u001b[1;32m    839\u001b[0m     \u001b[38;5;28mself\u001b[39m\u001b[38;5;241m.\u001b[39m_log_debug(\u001b[38;5;124mf\u001b[39m\u001b[38;5;124m\"\u001b[39m\u001b[38;5;124mPy4J Java error during \u001b[39m\u001b[38;5;132;01m{\u001b[39;00moperation\u001b[38;5;241m.\u001b[39mvalue\u001b[38;5;132;01m}\u001b[39;00m\u001b[38;5;124m\"\u001b[39m)\n\u001b[0;32m--> 840\u001b[0m     \u001b[38;5;28;43mself\u001b[39;49m\u001b[38;5;241;43m.\u001b[39;49m\u001b[43m_handle_java_exception\u001b[49m\u001b[43m(\u001b[49m\u001b[43mtable_name\u001b[49m\u001b[43m,\u001b[49m\u001b[43m \u001b[49m\u001b[43me\u001b[49m\u001b[43m,\u001b[49m\u001b[43m \u001b[49m\u001b[43moperation\u001b[49m\u001b[38;5;241;43m.\u001b[39;49m\u001b[43mvalue\u001b[49m\u001b[43m)\u001b[49m\n\u001b[1;32m    841\u001b[0m \u001b[38;5;28;01mexcept\u001b[39;00m TableNotFoundException:\n\u001b[1;32m    842\u001b[0m     \u001b[38;5;66;03m# Re-raise TableNotFoundException as-is\u001b[39;00m\n\u001b[1;32m    843\u001b[0m     \u001b[38;5;28;01mraise\u001b[39;00m\n",
      "File \u001b[0;32m~/cluster-env/clonedenv/lib/python3.10/site-packages/sentinel_lake/providers.py:271\u001b[0m, in \u001b[0;36mDataProviderImpl._handle_java_exception\u001b[0;34m(self, table_name, e, operation)\u001b[0m\n\u001b[1;32m    268\u001b[0m \u001b[38;5;28;01mexcept\u001b[39;00m \u001b[38;5;167;01mException\u001b[39;00m:\n\u001b[1;32m    269\u001b[0m     \u001b[38;5;28;01mpass\u001b[39;00m\n\u001b[0;32m--> 271\u001b[0m \u001b[38;5;28;01mraise\u001b[39;00m TableOperationException(error_message)\n",
      "\u001b[0;31mTableOperationException\u001b[0m: Received Unauthorized status code with error {\"error\":{\"code\":\"Table_InsufficientPermissions\",\"message\":\"User does not have sufficient permissions to access table \\u0027PIIAssetPathTable_SPRK\\u0027 (permission: \\u0027r\\u0027).\",\"details\":[]}}"
     ]
    }
   ],
   "source": [
    "# Check if baseline table exists\n",
    "baseline_table_name = \"PIIAssetPathTable_SPRK\"\n",
    "new_assets_table_name = \"NewPIIAssets_SPRK\"\n",
    "workspace = \"default\"\n",
    "\n",
    "if table_exists(data_provider, baseline_table_name, workspace):\n",
    "    print(f\"Baseline table '{baseline_table_name}' exists - checking for new assets\")\n",
    "    \n",
    "    # Read existing baseline\n",
    "    existing_baseline = data_provider.read_table(baseline_table_name, workspace)\n",
    "    \n",
    "    # Find new assets that don't exist in baseline (anti-join ensures uniqueness)\n",
    "    new_assets = df_latest.join(existing_baseline, \"AssetPath\", \"left_anti\")\n",
    "    \n",
    "    new_asset_count = new_assets.count()\n",
    "    \n",
    "    if new_asset_count > 0:\n",
    "        print(f\"Found {new_asset_count} new assets\")\n",
    "        \n",
    "        # Save new assets to NewPIIAssets table (overwrite to replace previous run's results)\n",
    "        data_provider.save_as_table(\n",
    "            new_assets,\n",
    "            new_assets_table_name,\n",
    "            write_options={'mode': 'overwrite'}\n",
    "        )\n",
    "        print(f\"Saved new assets to '{new_assets_table_name}' table\")\n",
    "        \n",
    "        # Append new assets to baseline table (much more efficient!)\n",
    "        data_provider.save_as_table(\n",
    "            new_assets,\n",
    "            baseline_table_name,\n",
    "            write_options={'mode': 'append'}\n",
    "        )\n",
    "        print(f\"Appended {new_asset_count} new assets to baseline table '{baseline_table_name}'\")\n",
    "        \n",
    "        # Show the new assets\n",
    "        print(\"\\nNew assets found:\")\n",
    "        new_assets.show(20, False)\n",
    "        \n",
    "    else:\n",
    "        print(\"No new assets found - baseline is up to date\")\n",
    "        \n",
    "        # Create/update NewPIIAssets table with empty DataFrame\n",
    "        empty_new_assets = spark.createDataFrame([], df_latest.schema)\n",
    "        data_provider.save_as_table(\n",
    "            empty_new_assets,\n",
    "            new_assets_table_name,\n",
    "            write_options={'mode': 'overwrite'}\n",
    "        )\n",
    "        print(f\"Updated '{new_assets_table_name}' table (no new assets)\")\n",
    "\n",
    "else:\n",
    "    print(f\"Baseline table '{baseline_table_name}' does not exist - creating new baseline\")\n",
    "    \n",
    "    # Create new baseline table with all current assets\n",
    "    data_provider.save_as_table(        \n",
    "        df_latest,\n",
    "        baseline_table_name,\n",
    "        write_options={'mode': 'overwrite'}\n",
    "    )\n",
    "    print(f\"Created baseline table '{baseline_table_name}' with {df_latest.count()} assets\")\n",
    "    \n",
    "    # All assets are \"new\" since there was no baseline\n",
    "    data_provider.save_as_table(\n",
    "        df_latest,\n",
    "        new_assets_table_name,\n",
    "        write_options={'mode': 'overwrite'}\n",
    "    )\n",
    "    print(f\"Created '{new_assets_table_name}' table with all {df_latest.count()} assets (first run)\")\n",
    "\n",
    "# Verify final state\n",
    "print(f\"\\nFinal baseline table '{baseline_table_name}':\")\n",
    "final_baseline = data_provider.read_table(baseline_table_name, workspace)\n",
    "print(f\"Total assets in baseline: {final_baseline.count()}\")\n",
    "\n",
    "print(f\"\\nNew assets table '{new_assets_table_name}':\")\n",
    "final_new_assets = data_provider.read_table(new_assets_table_name, workspace)\n",
    "print(f\"New assets this run: {final_new_assets.count()}\")\n",
    "final_new_assets.show(10, False)"
   ]
  }
 ],
 "metadata": {
  "kernelspec": {
   "display_name": "small pool (4 vCores) [PurviewPIIScan_test]",
   "language": "Python",
   "name": "MSGSmall"
  }
 },
 "nbformat": 4,
 "nbformat_minor": 5
}
